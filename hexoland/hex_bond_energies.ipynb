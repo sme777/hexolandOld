{
 "cells": [
  {
   "cell_type": "code",
   "execution_count": 1,
   "id": "fda9997b",
   "metadata": {},
   "outputs": [],
   "source": [
    "neighbor_thermodynamics = {\n",
    "    \"AA\" : 1.9,\n",
    "    \"AT\" : 1.5,\n",
    "    \"AC\" : 1.3,\n",
    "    \"AG\" : 1.6,\n",
    "    \"TA\" : 0.9,\n",
    "    \"TT\" : 1.9,\n",
    "    \"TC\" : 1.6,\n",
    "    \"TG\" : 1.9,\n",
    "    \"CA\" : 1.9,\n",
    "    \"CT\" : 1.6,\n",
    "    \"CG\" : 3.6,\n",
    "    \"CC\" : 3.1,\n",
    "    \"GT\" : 1.3,\n",
    "    \"GA\" : 1.6,\n",
    "    \"GC\" : 3.1,\n",
    "    \"GG\" : 3.1\n",
    "}"
   ]
  },
  {
   "cell_type": "code",
   "execution_count": null,
   "id": "3e91bb5a",
   "metadata": {},
   "outputs": [],
   "source": []
  },
  {
   "cell_type": "code",
   "execution_count": 2,
   "id": "9fcd3ee6",
   "metadata": {},
   "outputs": [],
   "source": [
    "def compute_free_energy(seq):\n",
    "    free_energy = 0\n",
    "    for i in range(len(seq)):\n",
    "        if i == len(seq)-1:\n",
    "            break\n",
    "        free_energy += neighbor_thermodynamics[f\"{seq[i]}{seq[i+1]}\"]\n",
    "    return round(free_energy, 4)"
   ]
  },
  {
   "cell_type": "code",
   "execution_count": 3,
   "id": "4127a4e3",
   "metadata": {},
   "outputs": [],
   "source": [
    "### LEFT SIDE ###\n",
    "\n",
    "# Side 1\n",
    "H61_L_S, H61_L_P = \"TGATAAA\", \"TCCTCAT\" # EQUIVALENT TO H35_R_P, H35_R_S\n",
    "H60_L_S, H60_L_P = \"CATCGCC\", \"TAAAGCC\" # EQUIVALENT TO H36_R_P, H36_R_S\n",
    "H57_L_S, H57_L_P = \"GAGGAAG\", \"AATAAGT\" # EQUIVALENT TO H36_R_P, H36_R_S\n",
    "H56_L_S, H56_L_P = \"TTTTCAT\", \"TTTAACG\" # EQUIVALENT TO H36_R_P, H36_R_S\n",
    "\n",
    "# Side 2\n",
    "H54_L_S, H54_L_P = \"CTTTTGC\", \"GGGGGTA\" # EQUIVALENT TO H35_R_P, H35_R_S\n",
    "H53_L_S, H53_L_P = \"AAGGCCG\", \"ATAGTAA\" # EQUIVALENT TO H36_R_P, H36_R_S\n",
    "H50_L_S, H50_L_P = \"GACAGCC\", \"AACCGCC\" # EQUIVALENT TO H36_R_P, H36_R_S\n",
    "H49_L_S, H49_L_P = \"TTCCACA\", \"TCCCTCA\" # EQUIVALENT TO H36_R_P, H36_R_S\n",
    "\n",
    "# Side 3\n",
    "H47_L_S, H47_L_P = \"CGCCATA\", \"CAGACCA\" # EQUIVALENT TO H35_R_P, H35_R_S\n",
    "H46_L_S, H46_L_P = \"TCAGAAC\", \"GGCGCAA\" # EQUIVALENT TO H36_R_P, H36_R_S\n",
    "H43_L_S, H43_L_P = \"GACTCCT\", \"TAACGCC\" # EQUIVALENT TO H36_R_P, H36_R_S\n",
    "H42_L_S, H42_L_P = \"AGGCTGA\", \"AAAAGGA\" # EQUIVALENT TO H36_R_P, H36_R_S"
   ]
  },
  {
   "cell_type": "code",
   "execution_count": 4,
   "id": "952b811e",
   "metadata": {},
   "outputs": [],
   "source": [
    "### RIGHT SIDE ### \n",
    "\n",
    "# Side 1\n",
    "H61_R_S, H61_R_P = \"TGCGAAC\", \"TCCGGCC\" # EQUIVALENT TO H35_R_P, H35_R_S\n",
    "H60_R_S, H60_R_P = \"GAGTAGA\", \"GGCAGCC\" # EQUIVALENT TO H36_R_P, H36_R_S\n",
    "H57_R_S, H57_R_P = \"TGTACCA\", \"AAACGAC\" # EQUIVALENT TO H36_R_P, H36_R_S\n",
    "H56_R_S, H56_R_P = \"AAAACAT\", \"CGTTGTA\" # EQUIVALENT TO H36_R_P, H36_R_S\n",
    "\n",
    "# Side 2\n",
    "H54_R_S, H54_R_P = \"AATATGA\", \"ATTCATT\" # EQUIVALENT TO H35_R_P, H35_R_S\n",
    "H53_R_S, H53_R_P = \"TATTCAA\", \"CATAAAT\" # EQUIVALENT TO H36_R_P, H36_R_S\n",
    "H50_R_S, H50_R_P = \"AACAAGA\", \"GGTGGTG\" # EQUIVALENT TO H36_R_P, H36_R_S\n",
    "H49_R_S, H49_R_P = \"GAATCGA\", \"CACCGTC\" # EQUIVALENT TO H36_R_P, H36_R_S\n",
    "\n",
    "# Side 3\n",
    "H47_R_S, H47_R_P = \"CCAATAG\", \"GAGGTCA\" # EQUIVALENT TO H35_R_P, H35_R_S\n",
    "H46_R_S, H46_R_P = \"GAACGCC\", \"TTGATAA\" # EQUIVALENT TO H36_R_P, H36_R_S\n",
    "H43_R_S, H43_R_P = \"CTTTCCG\", \"TAATTCG\" # EQUIVALENT TO H36_R_P, H36_R_S\n",
    "H42_R_S, H42_R_P = \"GCACCGC\", \"CGCGTTT\" # EQUIVALENT TO H36_R_P, H36_R_S"
   ]
  },
  {
   "cell_type": "code",
   "execution_count": 5,
   "id": "9272330b",
   "metadata": {},
   "outputs": [],
   "source": [
    "bond2gibbs = {\n",
    "    \"H61_L_S\": compute_free_energy(H61_L_S),\n",
    "    \"H60_L_S\": compute_free_energy(H60_L_S),\n",
    "    \"H57_L_S\": compute_free_energy(H57_L_S),\n",
    "    \"H56_L_S\": compute_free_energy(H56_L_S),\n",
    "    \"H61_L_P\": compute_free_energy(H61_L_P),\n",
    "    \"H60_L_P\": compute_free_energy(H60_L_P),\n",
    "    \"H57_L_P\": compute_free_energy(H57_L_P),\n",
    "    \"H56_L_P\": compute_free_energy(H56_L_P),\n",
    "    \"H54_L_S\": compute_free_energy(H54_L_S),\n",
    "    \"H53_L_S\": compute_free_energy(H53_L_S),\n",
    "    \"H50_L_S\": compute_free_energy(H50_L_S),\n",
    "    \"H49_L_S\": compute_free_energy(H49_L_S),\n",
    "    \"H54_L_P\": compute_free_energy(H54_L_P),\n",
    "    \"H53_L_P\": compute_free_energy(H53_L_P),\n",
    "    \"H50_L_P\": compute_free_energy(H50_L_P),\n",
    "    \"H49_L_P\": compute_free_energy(H49_L_P),\n",
    "    \"H47_L_S\": compute_free_energy(H47_L_S),\n",
    "    \"H46_L_S\": compute_free_energy(H46_L_S),\n",
    "    \"H43_L_S\": compute_free_energy(H43_L_S),\n",
    "    \"H42_L_S\": compute_free_energy(H42_L_S),\n",
    "    \"H47_L_P\": compute_free_energy(H47_L_P),\n",
    "    \"H46_L_P\": compute_free_energy(H46_L_P),\n",
    "    \"H43_L_P\": compute_free_energy(H43_L_P),\n",
    "    \"H42_L_P\": compute_free_energy(H42_L_P),\n",
    "    \"H61_R_S\": compute_free_energy(H61_R_S),\n",
    "    \"H60_R_S\": compute_free_energy(H60_R_S),\n",
    "    \"H57_R_S\": compute_free_energy(H57_R_S),\n",
    "    \"H56_R_S\": compute_free_energy(H56_R_S),\n",
    "    \"H61_R_P\": compute_free_energy(H61_R_P),\n",
    "    \"H60_R_P\": compute_free_energy(H60_R_P),\n",
    "    \"H57_R_P\": compute_free_energy(H57_R_P),\n",
    "    \"H56_R_P\": compute_free_energy(H56_R_P),\n",
    "    \"H54_R_S\": compute_free_energy(H54_R_S),\n",
    "    \"H53_R_S\": compute_free_energy(H53_R_S),\n",
    "    \"H50_R_S\": compute_free_energy(H50_R_S),\n",
    "    \"H49_R_S\": compute_free_energy(H49_R_S),\n",
    "    \"H54_R_P\": compute_free_energy(H54_R_P),\n",
    "    \"H53_R_P\": compute_free_energy(H53_R_P),\n",
    "    \"H50_R_P\": compute_free_energy(H50_R_P),\n",
    "    \"H49_R_P\": compute_free_energy(H49_R_P),\n",
    "    \"H47_R_S\": compute_free_energy(H47_R_S),\n",
    "    \"H46_R_S\": compute_free_energy(H46_R_S),\n",
    "    \"H43_R_S\": compute_free_energy(H43_R_S),\n",
    "    \"H42_R_S\": compute_free_energy(H42_R_S),\n",
    "    \"H47_R_P\": compute_free_energy(H47_R_P),\n",
    "    \"H46_R_P\": compute_free_energy(H46_R_P),\n",
    "    \"H43_R_P\": compute_free_energy(H43_R_P),\n",
    "    \"H42_R_P\": compute_free_energy(H42_R_P)\n",
    "}"
   ]
  },
  {
   "cell_type": "code",
   "execution_count": 6,
   "id": "dfeb2858",
   "metadata": {},
   "outputs": [],
   "source": [
    "def sum_free_energeis(bonds):\n",
    "    return sum([bond2gibbs[bond] for bond in bonds])"
   ]
  },
  {
   "cell_type": "code",
   "execution_count": 9,
   "id": "d568ca20",
   "metadata": {},
   "outputs": [],
   "source": [
    "bonds_M1_M3 = [\"H54_L_P\", \"H53_R_P\", \"H50_L_S\", \"H49_R_S\"]\n",
    "bonds_M1_M4 = [\"H42_L_P\", \"H43_R_P\", \"H46_L_S\", \"H47_R_S\"]\n",
    "bonds_M2_M3 = [\"H46_L_P\", \"H47_R_P\", \"H43_L_S\", \"H42_R_S\"]"
   ]
  },
  {
   "cell_type": "code",
   "execution_count": 10,
   "id": "17e7ca42",
   "metadata": {},
   "outputs": [
    {
     "data": {
      "text/plain": [
       "48.599999999999994"
      ]
     },
     "execution_count": 10,
     "metadata": {},
     "output_type": "execute_result"
    }
   ],
   "source": [
    "bonds_M1_M3_FE = sum([bond2gibbs[bond] for bond in bonds_M1_M3])\n",
    "bonds_M1_M3_FE"
   ]
  },
  {
   "cell_type": "code",
   "execution_count": 11,
   "id": "7f64cef5",
   "metadata": {},
   "outputs": [
    {
     "data": {
      "text/plain": [
       "44.199999999999996"
      ]
     },
     "execution_count": 11,
     "metadata": {},
     "output_type": "execute_result"
    }
   ],
   "source": [
    "bonds_M1_M4_FE = sum([bond2gibbs[bond] for bond in bonds_M1_M4])\n",
    "bonds_M1_M4_FE"
   ]
  },
  {
   "cell_type": "code",
   "execution_count": 12,
   "id": "b3e59f61",
   "metadata": {},
   "outputs": [
    {
     "data": {
      "text/plain": [
       "54.699999999999996"
      ]
     },
     "execution_count": 12,
     "metadata": {},
     "output_type": "execute_result"
    }
   ],
   "source": [
    "bonds_M2_M3_FE = sum([bond2gibbs[bond] for bond in bonds_M2_M3])\n",
    "bonds_M2_M3_FE"
   ]
  },
  {
   "cell_type": "code",
   "execution_count": 14,
   "id": "b282a301",
   "metadata": {},
   "outputs": [
    {
     "data": {
      "text/plain": [
       "45.0"
      ]
     },
     "execution_count": 14,
     "metadata": {},
     "output_type": "execute_result"
    }
   ],
   "source": [
    "VELVET_bonds = [\"H53_R_P\", \"H49_L_P\", \"H54_L_S\", \"H50_R_S\"]\n",
    "VELVET_bonds_FE = sum([bond2gibbs[bond] for bond in VELVET_bonds])\n",
    "VELVET_bonds_FE"
   ]
  },
  {
   "cell_type": "code",
   "execution_count": 19,
   "id": "a2f7faf5",
   "metadata": {},
   "outputs": [
    {
     "data": {
      "text/plain": [
       "50.300000000000004"
      ]
     },
     "execution_count": 19,
     "metadata": {},
     "output_type": "execute_result"
    }
   ],
   "source": [
    "S1_1_bonds = sum_free_energeis([\"H56_L_P\", \"H57_R_P\", \"H61_L_P\", \"H60_R_P\"])\n",
    "S1_1_bonds"
   ]
  },
  {
   "cell_type": "code",
   "execution_count": 20,
   "id": "a7975d86",
   "metadata": {},
   "outputs": [
    {
     "data": {
      "text/plain": [
       "53.2"
      ]
     },
     "execution_count": 20,
     "metadata": {},
     "output_type": "execute_result"
    }
   ],
   "source": [
    "S1_2_bonds = sum_free_energeis([\"H56_L_P\", \"H57_R_P\", \"H60_L_P\", \"H61_R_P\"])\n",
    "S1_2_bonds"
   ]
  },
  {
   "cell_type": "code",
   "execution_count": 91,
   "id": "053bdabe",
   "metadata": {},
   "outputs": [
    {
     "data": {
      "text/plain": [
       "[('H56_L_S', 10.7),\n",
       " ('H57_R_S', 10.4),\n",
       " ('H56_L_P', 11.5),\n",
       " ('H57_R_P', 11.6),\n",
       " ('H56_R_S', 10.4),\n",
       " ('H57_L_S', 11.4),\n",
       " ('H56_R_P', 10.9),\n",
       " ('H57_L_P', 9.1),\n",
       " ('H60_L_S', 14.8),\n",
       " ('H61_R_S', 13.4),\n",
       " ('H60_L_P', 12.5),\n",
       " ('H61_R_P', 17.6),\n",
       " ('H60_R_S', 8.6),\n",
       " ('H61_L_S', 9.7),\n",
       " ('H60_R_P', 15.9),\n",
       " ('H61_L_P', 11.3)]"
      ]
     },
     "execution_count": 91,
     "metadata": {},
     "output_type": "execute_result"
    }
   ],
   "source": [
    "S14_bonds = [\"H56_L_S\", \"H57_R_S\", \"H56_L_P\", \"H57_R_P\", \"H56_R_S\", \"H57_L_S\", \"H56_R_P\", \"H57_L_P\", \\\n",
    "            \"H60_L_S\", \"H61_R_S\", \"H60_L_P\", \"H61_R_P\", \"H60_R_S\", \"H61_L_S\", \"H60_R_P\", \"H61_L_P\"]\n",
    "[(name, bond2gibbs[name]) for name in S14_bonds]"
   ]
  },
  {
   "cell_type": "code",
   "execution_count": 96,
   "id": "00de79ce",
   "metadata": {},
   "outputs": [
    {
     "data": {
      "text/plain": [
       "42.2"
      ]
     },
     "execution_count": 96,
     "metadata": {},
     "output_type": "execute_result"
    }
   ],
   "source": [
    "S14_1_bond = sum_free_energeis([\"H56_L_S\", \"H57_R_P\", \"H60_R_S\", \"H61_L_P\"])\n",
    "S14_1_bond"
   ]
  },
  {
   "cell_type": "code",
   "execution_count": 93,
   "id": "1d65ce91",
   "metadata": {},
   "outputs": [
    {
     "data": {
      "text/plain": [
       "47.8"
      ]
     },
     "execution_count": 93,
     "metadata": {},
     "output_type": "execute_result"
    }
   ],
   "source": [
    "S14_2_bond = sum_free_energeis([\"H56_L_P\", \"H57_R_S\", \"H60_L_P\", \"H61_R_S\"])\n",
    "S14_2_bond"
   ]
  },
  {
   "cell_type": "code",
   "execution_count": 94,
   "id": "e507a990",
   "metadata": {},
   "outputs": [
    {
     "data": {
      "text/plain": [
       "54.7"
      ]
     },
     "execution_count": 94,
     "metadata": {},
     "output_type": "execute_result"
    }
   ],
   "source": [
    "S14_3_bond = sum_free_energeis([\"H56_R_P\", \"H57_L_S\", \"H60_L_S\", \"H61_R_P\"])\n",
    "S14_3_bond"
   ]
  },
  {
   "cell_type": "code",
   "execution_count": 95,
   "id": "bb5d7c49",
   "metadata": {},
   "outputs": [
    {
     "data": {
      "text/plain": [
       "[('H54_L_S', 12.3),\n",
       " ('H53_R_S', 9.7),\n",
       " ('H54_L_P', 14.6),\n",
       " ('H53_R_P', 9.6),\n",
       " ('H54_R_S', 9.3),\n",
       " ('H53_L_S', 16.4),\n",
       " ('H54_R_P', 10.3),\n",
       " ('H53_L_P', 8.1),\n",
       " ('H50_L_S', 12.6),\n",
       " ('H49_R_S', 11.8),\n",
       " ('H50_L_P', 16.1),\n",
       " ('H49_R_P', 12.8),\n",
       " ('H50_R_S', 10.2),\n",
       " ('H49_L_S', 11.7),\n",
       " ('H50_R_P', 12.6),\n",
       " ('H49_L_P', 12.9)]"
      ]
     },
     "execution_count": 95,
     "metadata": {},
     "output_type": "execute_result"
    }
   ],
   "source": [
    "S25_bonds = [\"H54_L_S\", \"H53_R_S\", \"H54_L_P\", \"H53_R_P\", \"H54_R_S\", \"H53_L_S\", \"H54_R_P\", \"H53_L_P\", \\\n",
    "            \"H50_L_S\", \"H49_R_S\", \"H50_L_P\", \"H49_R_P\", \"H50_R_S\", \"H49_L_S\", \"H50_R_P\", \"H49_L_P\"]\n",
    "[(name, bond2gibbs[name]) for name in S25_bonds]"
   ]
  },
  {
   "cell_type": "code",
   "execution_count": 63,
   "id": "254d282b",
   "metadata": {},
   "outputs": [
    {
     "data": {
      "text/plain": [
       "40.3"
      ]
     },
     "execution_count": 63,
     "metadata": {},
     "output_type": "execute_result"
    }
   ],
   "source": [
    "S25_1_bond = sum_free_energeis([\"H54_R_P\", \"H53_L_P\", \"H50_R_S\", \"H49_L_S\"])\n",
    "S25_1_bond"
   ]
  },
  {
   "cell_type": "code",
   "execution_count": 60,
   "id": "f31970ad",
   "metadata": {},
   "outputs": [
    {
     "data": {
      "text/plain": [
       "47.400000000000006"
      ]
     },
     "execution_count": 60,
     "metadata": {},
     "output_type": "execute_result"
    }
   ],
   "source": [
    "S25_2_bond = sum_free_energeis([\"H54_L_S\", \"H53_R_S\", \"H50_L_S\", \"H49_R_P\"])\n",
    "S25_2_bond"
   ]
  },
  {
   "cell_type": "code",
   "execution_count": 61,
   "id": "b8c3e5b8",
   "metadata": {},
   "outputs": [
    {
     "data": {
      "text/plain": [
       "55.599999999999994"
      ]
     },
     "execution_count": 61,
     "metadata": {},
     "output_type": "execute_result"
    }
   ],
   "source": [
    "S25_3_bond = sum_free_energeis([\"H54_R_P\", \"H53_L_S\", \"H50_L_P\", \"H49_R_P\"])\n",
    "S25_3_bond"
   ]
  },
  {
   "cell_type": "code",
   "execution_count": 64,
   "id": "ad5bdf78",
   "metadata": {},
   "outputs": [
    {
     "data": {
      "text/plain": [
       "(8.199999999999989, 7.1000000000000085)"
      ]
     },
     "execution_count": 64,
     "metadata": {},
     "output_type": "execute_result"
    }
   ],
   "source": [
    "S25_3_bond-S25_2_bond, S25_2_bond-S25_1_bond "
   ]
  },
  {
   "cell_type": "code",
   "execution_count": null,
   "id": "6907a45d",
   "metadata": {},
   "outputs": [],
   "source": []
  },
  {
   "cell_type": "code",
   "execution_count": 66,
   "id": "8d0ca20b",
   "metadata": {},
   "outputs": [
    {
     "data": {
      "text/plain": [
       "[('H42_L_S', 12.9),\n",
       " ('H43_R_S', 13.7),\n",
       " ('H42_L_P', 12.0),\n",
       " ('H43_R_P', 11.4),\n",
       " ('H42_R_S', 16.1),\n",
       " ('H43_L_S', 10.8),\n",
       " ('H42_R_P', 15.4),\n",
       " ('H43_L_P', 13.9),\n",
       " ('H46_L_S', 9.9),\n",
       " ('H47_R_S', 10.9),\n",
       " ('H46_L_P', 16.7),\n",
       " ('H47_R_P', 11.1),\n",
       " ('H46_R_S', 14.6),\n",
       " ('H47_L_S', 14.1),\n",
       " ('H46_R_P', 9.7),\n",
       " ('H47_L_P', 11.4)]"
      ]
     },
     "execution_count": 66,
     "metadata": {},
     "output_type": "execute_result"
    }
   ],
   "source": [
    "S36_bonds = [\"H42_L_S\", \"H43_R_S\", \"H42_L_P\", \"H43_R_P\", \"H42_R_S\", \"H43_L_S\", \"H42_R_P\", \"H43_L_P\", \\\n",
    "            \"H46_L_S\", \"H47_R_S\", \"H46_L_P\", \"H47_R_P\", \"H46_R_S\", \"H47_L_S\", \"H46_R_P\", \"H47_L_P\"]\n",
    "[(name, bond2gibbs[name]) for name in S36_bonds]"
   ]
  },
  {
   "cell_type": "code",
   "execution_count": 80,
   "id": "58e3b5e5",
   "metadata": {},
   "outputs": [
    {
     "data": {
      "text/plain": [
       "44.4"
      ]
     },
     "execution_count": 80,
     "metadata": {},
     "output_type": "execute_result"
    }
   ],
   "source": [
    "S36_1_bond = sum_free_energeis([\"H42_L_P\", \"H43_R_P\", \"H46_L_S\", \"H47_R_P\"])\n",
    "S36_1_bond"
   ]
  },
  {
   "cell_type": "code",
   "execution_count": 108,
   "id": "f3e844e3",
   "metadata": {},
   "outputs": [
    {
     "data": {
      "text/plain": [
       "54.4"
      ]
     },
     "execution_count": 108,
     "metadata": {},
     "output_type": "execute_result"
    }
   ],
   "source": [
    "S36_2_bond = sum_free_energeis([\"H42_L_P\", \"H43_R_S\", \"H46_R_S\", \"H47_L_S\"])\n",
    "S36_2_bond"
   ]
  },
  {
   "cell_type": "code",
   "execution_count": 89,
   "id": "a1d8b41f",
   "metadata": {},
   "outputs": [
    {
     "data": {
      "text/plain": [
       "58.7"
      ]
     },
     "execution_count": 89,
     "metadata": {},
     "output_type": "execute_result"
    }
   ],
   "source": [
    "S36_3_bond = sum_free_energeis([\"H42_R_S\", \"H43_L_P\", \"H46_R_S\", \"H47_L_S\"])\n",
    "S36_3_bond"
   ]
  },
  {
   "cell_type": "code",
   "execution_count": 90,
   "id": "6adbcd87",
   "metadata": {},
   "outputs": [
    {
     "data": {
      "text/plain": [
       "(7.300000000000004, 7.0)"
      ]
     },
     "execution_count": 90,
     "metadata": {},
     "output_type": "execute_result"
    }
   ],
   "source": [
    "S36_3_bond-S36_2_bond, S36_2_bond-S36_1_bond "
   ]
  },
  {
   "cell_type": "code",
   "execution_count": null,
   "id": "3d728094",
   "metadata": {},
   "outputs": [],
   "source": []
  },
  {
   "cell_type": "code",
   "execution_count": 123,
   "id": "e7fe1931",
   "metadata": {},
   "outputs": [
    {
     "data": {
      "text/plain": [
       "44.199999999999996"
      ]
     },
     "execution_count": 123,
     "metadata": {},
     "output_type": "execute_result"
    }
   ],
   "source": [
    "S36_B_U = sum_free_energeis([\"H42_L_P\", \"H43_R_P\", \"H46_L_S\", \"H47_R_S\"])\n",
    "S36_B_U"
   ]
  },
  {
   "cell_type": "code",
   "execution_count": 174,
   "id": "c73f2a34",
   "metadata": {},
   "outputs": [
    {
     "data": {
      "text/plain": [
       "46.0"
      ]
     },
     "execution_count": 174,
     "metadata": {},
     "output_type": "execute_result"
    }
   ],
   "source": [
    "S36_B_D = sum_free_energeis([\"H43_L_S\", \"H43_R_P\", \"H46_R_P\", \"H47_L_S\"])\n",
    "S36_B_D"
   ]
  },
  {
   "cell_type": "code",
   "execution_count": 132,
   "id": "8f5aa4e0",
   "metadata": {},
   "outputs": [
    {
     "data": {
      "text/plain": [
       "45.5"
      ]
     },
     "execution_count": 132,
     "metadata": {},
     "output_type": "execute_result"
    }
   ],
   "source": [
    "S36_T_U = sum_free_energeis([\"H43_L_S\", \"H43_R_S\", \"H46_L_S\", \"H47_R_P\"])\n",
    "S36_T_U"
   ]
  },
  {
   "cell_type": "code",
   "execution_count": 144,
   "id": "73151002",
   "metadata": {},
   "outputs": [
    {
     "data": {
      "text/plain": [
       "47.0"
      ]
     },
     "execution_count": 144,
     "metadata": {},
     "output_type": "execute_result"
    }
   ],
   "source": [
    "S36_T_D = sum_free_energeis([\"H42_L_P\", \"H42_R_P\", \"H46_L_S\", \"H46_R_P\"])\n",
    "S36_T_D"
   ]
  },
  {
   "cell_type": "code",
   "execution_count": null,
   "id": "ff37fb79",
   "metadata": {},
   "outputs": [],
   "source": []
  },
  {
   "cell_type": "code",
   "execution_count": 150,
   "id": "1cbf7ed2",
   "metadata": {},
   "outputs": [
    {
     "data": {
      "text/plain": [
       "46.400000000000006"
      ]
     },
     "execution_count": 150,
     "metadata": {},
     "output_type": "execute_result"
    }
   ],
   "source": [
    "S25_B = sum_free_energeis([\"H54_L_S\", \"H53_R_S\", \"H50_L_S\", \"H49_R_S\"])\n",
    "S25_B"
   ]
  },
  {
   "cell_type": "code",
   "execution_count": 168,
   "id": "42a982c0",
   "metadata": {},
   "outputs": [
    {
     "data": {
      "text/plain": [
       "42.8"
      ]
     },
     "execution_count": 168,
     "metadata": {},
     "output_type": "execute_result"
    }
   ],
   "source": [
    "S25_T = sum_free_energeis([\"H53_L_P\", \"H54_R_P\", \"H49_R_S\", \"H50_L_S\"])\n",
    "S25_T"
   ]
  },
  {
   "cell_type": "code",
   "execution_count": 12,
   "id": "90d08a9f",
   "metadata": {},
   "outputs": [
    {
     "data": {
      "text/plain": [
       "86.7"
      ]
     },
     "execution_count": 12,
     "metadata": {},
     "output_type": "execute_result"
    }
   ],
   "source": [
    "M1T_bond = sum_free_energeis([\"H61_L_P\", \"H60_L_P\", \"H61_L_S\", \"H60_R_S\", \"H56_R_P\", \"H57_R_P\", \"H56_L_S\", \"H57_L_S\"])\n",
    "M1T_bond"
   ]
  },
  {
   "cell_type": "code",
   "execution_count": 8,
   "id": "6ec2a408",
   "metadata": {},
   "outputs": [
    {
     "data": {
      "text/plain": [
       "88.39999999999999"
      ]
     },
     "execution_count": 8,
     "metadata": {},
     "output_type": "execute_result"
    }
   ],
   "source": [
    "M3T_bond = sum_free_energeis([\"H61_L_P\", \"H60_L_P\", \"H61_L_P\", \"H60_R_S\", \"H56_R_P\", \"H56_L_P\", \"H56_L_S\", \"H57_R_P\"])\n",
    "M3T_bond"
   ]
  },
  {
   "cell_type": "code",
   "execution_count": null,
   "id": "876d000b",
   "metadata": {},
   "outputs": [],
   "source": []
  },
  {
   "cell_type": "code",
   "execution_count": 11,
   "id": "cf91fa91",
   "metadata": {},
   "outputs": [
    {
     "data": {
      "text/plain": [
       "102.4"
      ]
     },
     "execution_count": 11,
     "metadata": {},
     "output_type": "execute_result"
    }
   ],
   "source": [
    "M1B_bond = sum_free_energeis([\"H61_L_P\", \"H60_L_P\", \"H61_R_P\", \"H60_R_P\", \"H57_L_S\", \"H57_R_P\", \"H56_L_S\", \"H57_L_S\"])\n",
    "M1B_bond"
   ]
  },
  {
   "cell_type": "code",
   "execution_count": 10,
   "id": "ae529104",
   "metadata": {},
   "outputs": [
    {
     "data": {
      "text/plain": [
       "87.4"
      ]
     },
     "execution_count": 10,
     "metadata": {},
     "output_type": "execute_result"
    }
   ],
   "source": [
    "M3B_bond = sum_free_energeis([\"H61_L_P\", \"H60_L_S\", \"H61_L_S\", \"H60_R_S\", \"H56_R_S\", \"H56_L_P\", \"H56_L_S\", \"H57_R_S\"])\n",
    "M3B_bond"
   ]
  },
  {
   "cell_type": "code",
   "execution_count": null,
   "id": "975dc7d8",
   "metadata": {},
   "outputs": [],
   "source": []
  },
  {
   "cell_type": "code",
   "execution_count": 175,
   "id": "d6308ecc",
   "metadata": {},
   "outputs": [
    {
     "data": {
      "text/plain": [
       "37.5"
      ]
     },
     "execution_count": 175,
     "metadata": {},
     "output_type": "execute_result"
    }
   ],
   "source": [
    "PINK = sum_free_energeis([\"H61_L_P\", \"H61_R_P\", \"H60_R_S\"])\n",
    "PINK"
   ]
  },
  {
   "cell_type": "code",
   "execution_count": 184,
   "id": "8fdb67b6",
   "metadata": {},
   "outputs": [
    {
     "data": {
      "text/plain": [
       "31.700000000000003"
      ]
     },
     "execution_count": 184,
     "metadata": {},
     "output_type": "execute_result"
    }
   ],
   "source": [
    "sum_free_energeis([\"H61_L_S\", \"H61_R_S\", \"H60_R_S\"])"
   ]
  },
  {
   "cell_type": "code",
   "execution_count": 186,
   "id": "60be7a13",
   "metadata": {},
   "outputs": [
    {
     "data": {
      "text/plain": [
       "35.4"
      ]
     },
     "execution_count": 186,
     "metadata": {},
     "output_type": "execute_result"
    }
   ],
   "source": [
    "sum_free_energeis([\"H61_R_S\", \"H61_R_S\", \"H60_R_S\"])"
   ]
  },
  {
   "cell_type": "code",
   "execution_count": 187,
   "id": "f3dc93e1",
   "metadata": {},
   "outputs": [
    {
     "data": {
      "text/plain": [
       "41.6"
      ]
     },
     "execution_count": 187,
     "metadata": {},
     "output_type": "execute_result"
    }
   ],
   "source": [
    "sum_free_energeis([\"H61_R_S\", \"H61_R_S\", \"H60_L_S\"])"
   ]
  },
  {
   "cell_type": "code",
   "execution_count": null,
   "id": "d289f72b",
   "metadata": {},
   "outputs": [],
   "source": []
  },
  {
   "cell_type": "code",
   "execution_count": null,
   "id": "02fd4867",
   "metadata": {},
   "outputs": [],
   "source": [
    "# GENERATING DELTA G FOR FLAT 8MER"
   ]
  },
  {
   "cell_type": "code",
   "execution_count": 20,
   "id": "a5051e50",
   "metadata": {},
   "outputs": [
    {
     "data": {
      "text/plain": [
       "50.400000000000006"
      ]
     },
     "execution_count": 20,
     "metadata": {},
     "output_type": "execute_result"
    }
   ],
   "source": [
    "S14_1 = sum_free_energeis([\"H42_L_S\", \"H43_R_S\", \"H47_L_S\", \"H46_R_P\"])\n",
    "S14_1"
   ]
  },
  {
   "cell_type": "code",
   "execution_count": 24,
   "id": "ab54feca",
   "metadata": {},
   "outputs": [
    {
     "data": {
      "text/plain": [
       "50.7"
      ]
     },
     "execution_count": 24,
     "metadata": {},
     "output_type": "execute_result"
    }
   ],
   "source": [
    "S14_2 = sum_free_energeis([\"H43_L_S\", \"H42_R_S\", \"H47_L_S\", \"H46_R_P\"])\n",
    "S14_2"
   ]
  },
  {
   "cell_type": "code",
   "execution_count": 26,
   "id": "f7fd4364",
   "metadata": {},
   "outputs": [
    {
     "data": {
      "text/plain": [
       "51.0"
      ]
     },
     "execution_count": 26,
     "metadata": {},
     "output_type": "execute_result"
    }
   ],
   "source": [
    "S14_3 = sum_free_energeis([\"H43_L_P\", \"H42_R_S\", \"H46_L_S\", \"H47_R_P\"])\n",
    "S14_3"
   ]
  },
  {
   "cell_type": "code",
   "execution_count": 41,
   "id": "45724e19",
   "metadata": {},
   "outputs": [
    {
     "data": {
      "text/plain": [
       "51.2"
      ]
     },
     "execution_count": 41,
     "metadata": {},
     "output_type": "execute_result"
    }
   ],
   "source": [
    "S14_4 = sum_free_energeis([\"H43_L_S\", \"H42_R_P\", \"H47_L_S\", \"H47_R_S\"])\n",
    "S14_4"
   ]
  },
  {
   "cell_type": "code",
   "execution_count": 171,
   "id": "98943478",
   "metadata": {},
   "outputs": [],
   "source": [
    "import random\n",
    "\n",
    "def randomize_sides(side, number, mode=\"\"):\n",
    "    \n",
    "    def sampler(helices, left, right):\n",
    "        selections = []\n",
    "        for helix in helices:\n",
    "#             print(helix)\n",
    "            selections.extend([helix + random.sample(left, 1)[0], helix + random.sample(right, 1)[0]])\n",
    "        return selections\n",
    "    \n",
    "    def group_randomizer(arr, number):\n",
    "        random_samples = []\n",
    "        for _ in range(number):\n",
    "            random_element = random.choice(arr)\n",
    "            should_add = True\n",
    "            for selected in random_samples:\n",
    "                variant1 = random_element[0] + str(int(random_element[1:3]) + 1) + random_element[3:]\n",
    "                variant2 = random_element[0] + str(int(random_element[1:3]) - 1) + random_element[3:]\n",
    "                if selected[:5] == variant1 or selected[:5] == variant2:\n",
    "                    should_add = False\n",
    "                    break\n",
    "            \n",
    "            if should_add:\n",
    "                random_samples.append(random_element)\n",
    "        return random_samples\n",
    "    s36_sides = [[\"H42_L_S\", \"H43_L_S\", \"H42_L_P\", \"H43_L_P\", \"H42_R_S\", \"H43_R_S\", \"H42_R_P\", \"H43_R_P\"], \\\n",
    "                 [\"H46_L_S\", \"H47_L_S\", \"H46_L_P\", \"H47_L_P\", \"H46_R_S\", \"H47_R_S\", \"H46_R_P\", \"H47_R_P\"]]\n",
    "    s14_sides = [[\"H60_L_S\", \"H61_L_S\", \"H60_L_P\", \"H61_L_P\", \"H60_R_S\", \"H61_R_S\", \"H60_R_P\", \"H61_R_P\"], \\\n",
    "                 [\"H56_L_S\", \"H57_L_S\", \"H56_L_P\", \"H57_L_P\", \"H56_R_S\", \"H57_R_S\", \"H56_R_P\", \"H57_R_P\"]]\n",
    "    s25_sides = [[\"H54_L_S\", \"H53_L_S\", \"H54_L_P\", \"H53_L_P\", \"H54_R_S\", \"H53_R_S\", \"H54_R_P\", \"H53_R_P\"], \\\n",
    "                 [\"H50_L_S\", \"H49_L_S\", \"H50_L_P\", \"H49_L_P\", \"H50_R_S\", \"H49_R_S\", \"H50_R_P\", \"H49_R_P\"]]\n",
    "    \n",
    "    s36_helices = [\"H42\", \"H43\", \"H46\", \"H47\"]\n",
    "    s25_helices = [\"H60\", \"H61\", \"H56\", \"H57\"]\n",
    "    s14_helices = [\"H54\", \"H53\", \"H50\", \"H49\"]\n",
    "    \n",
    "    options_left = [\"_L_S\", \"_L_P\"]\n",
    "    options_right = [\"_R_S\", \"_R_P\"]\n",
    "    \n",
    "    if side == \"S14\":\n",
    "        if mode == \"full\":\n",
    "            return sampler(s14_helices, options_left, options_right)\n",
    "        return group_randomizer(s14_sides[0], number) + group_randomizer(s14_sides[1], number)\n",
    "    elif side == \"S25\":\n",
    "        if mode == \"full\":\n",
    "            return sampler(s25_helices, options_left, options_right)\n",
    "        return group_randomizer(s25_sides[0], number) + group_randomizer(s25_sides[1], number)\n",
    "    elif side == \"S36\":\n",
    "        if mode == \"full\":\n",
    "            return sampler(s36_helices, options_left, options_right)\n",
    "        return group_randomizer(s36_sides[0], number) + group_randomizer(s36_sides[1], number)\n",
    "        \n"
   ]
  },
  {
   "cell_type": "code",
   "execution_count": 159,
   "id": "2939cc2d",
   "metadata": {},
   "outputs": [
    {
     "data": {
      "text/plain": [
       "(52.8, ['H60_R_S', 'H61_L_S', 'H56_L_P', 'H56_L_S'])"
      ]
     },
     "execution_count": 159,
     "metadata": {},
     "output_type": "execute_result"
    }
   ],
   "source": [
    "s14_1 = sum_free_energeis(randomize_sides(\"S14\", 2)), randomize_sides(\"S14\", 2)\n",
    "s14_1"
   ]
  },
  {
   "cell_type": "code",
   "execution_count": 94,
   "id": "9e0723e0",
   "metadata": {},
   "outputs": [
    {
     "data": {
      "text/plain": [
       "(51.6, ['H60_L_P', 'H61_L_S', 'H56_R_P', 'H56_L_P'])"
      ]
     },
     "execution_count": 94,
     "metadata": {},
     "output_type": "execute_result"
    }
   ],
   "source": [
    "s14_2 = sum_free_energeis(randomize_sides(\"S14\", 2)), randomize_sides(\"S14\", 2)\n",
    "s14_2"
   ]
  },
  {
   "cell_type": "code",
   "execution_count": null,
   "id": "8446f2b4",
   "metadata": {},
   "outputs": [],
   "source": [
    "### S25"
   ]
  },
  {
   "cell_type": "code",
   "execution_count": 110,
   "id": "f493ec2d",
   "metadata": {},
   "outputs": [
    {
     "data": {
      "text/plain": [
       "(50.1, ['H54_L_P', 'H53_L_P', 'H49_L_P', 'H50_R_S'])"
      ]
     },
     "execution_count": 110,
     "metadata": {},
     "output_type": "execute_result"
    }
   ],
   "source": [
    "s25_1 = sum_free_energeis(randomize_sides(\"S25\", 2)), randomize_sides(\"S25\", 2)\n",
    "s25_1"
   ]
  },
  {
   "cell_type": "code",
   "execution_count": 112,
   "id": "ae884b28",
   "metadata": {},
   "outputs": [
    {
     "data": {
      "text/plain": [
       "(51.8, ['H53_L_P', 'H53_L_S', 'H50_L_P', 'H49_R_P'])"
      ]
     },
     "execution_count": 112,
     "metadata": {},
     "output_type": "execute_result"
    }
   ],
   "source": [
    "s25_2 = sum_free_energeis(randomize_sides(\"S25\", 2)), randomize_sides(\"S25\", 2)\n",
    "s25_2"
   ]
  },
  {
   "cell_type": "code",
   "execution_count": 118,
   "id": "40cd7312",
   "metadata": {},
   "outputs": [
    {
     "data": {
      "text/plain": [
       "(50.1, ['H54_R_S', 'H53_R_P', 'H49_L_P', 'H49_R_S'])"
      ]
     },
     "execution_count": 118,
     "metadata": {},
     "output_type": "execute_result"
    }
   ],
   "source": [
    "s25_3 = sum_free_energeis(randomize_sides(\"S25\", 2)), randomize_sides(\"S25\", 2)\n",
    "s25_3"
   ]
  },
  {
   "cell_type": "code",
   "execution_count": 153,
   "id": "39bef98f",
   "metadata": {},
   "outputs": [
    {
     "data": {
      "text/plain": [
       "(50.5, ['H53_R_S', 'H53_L_P', 'H50_L_P', 'H49_R_P'])"
      ]
     },
     "execution_count": 153,
     "metadata": {},
     "output_type": "execute_result"
    }
   ],
   "source": [
    "s25_4 = sum_free_energeis(randomize_sides(\"S25\", 2)), randomize_sides(\"S25\", 2)\n",
    "s25_4"
   ]
  },
  {
   "cell_type": "code",
   "execution_count": null,
   "id": "1b10f585",
   "metadata": {},
   "outputs": [],
   "source": [
    "### S36"
   ]
  },
  {
   "cell_type": "code",
   "execution_count": 144,
   "id": "42237e20",
   "metadata": {},
   "outputs": [
    {
     "data": {
      "text/plain": [
       "(51.6, ['H42_L_S', 'H42_L_S', 'H46_R_P', 'H46_R_S'])"
      ]
     },
     "execution_count": 144,
     "metadata": {},
     "output_type": "execute_result"
    }
   ],
   "source": [
    "s36_1 = sum_free_energeis(randomize_sides(\"S36\", 2)), randomize_sides(\"S36\", 2)\n",
    "s36_1"
   ]
  },
  {
   "cell_type": "code",
   "execution_count": 145,
   "id": "a8c30a3b",
   "metadata": {},
   "outputs": [
    {
     "data": {
      "text/plain": [
       "(50.099999999999994, ['H42_R_P', 'H42_R_S', 'H46_L_P', 'H46_R_P'])"
      ]
     },
     "execution_count": 145,
     "metadata": {},
     "output_type": "execute_result"
    }
   ],
   "source": [
    "s36_2 = sum_free_energeis(randomize_sides(\"S36\", 2)), randomize_sides(\"S36\", 2)\n",
    "s36_2"
   ]
  },
  {
   "cell_type": "code",
   "execution_count": 149,
   "id": "0594cd75",
   "metadata": {},
   "outputs": [
    {
     "data": {
      "text/plain": [
       "(50.599999999999994, ['H42_L_P', 'H43_L_S', 'H47_L_P', 'H46_R_S'])"
      ]
     },
     "execution_count": 149,
     "metadata": {},
     "output_type": "execute_result"
    }
   ],
   "source": [
    "s36_3 = sum_free_energeis(randomize_sides(\"S36\", 2)), randomize_sides(\"S36\", 2)\n",
    "s36_3"
   ]
  },
  {
   "cell_type": "code",
   "execution_count": 187,
   "id": "e78b7cc9",
   "metadata": {},
   "outputs": [
    {
     "data": {
      "text/plain": [
       "(['H42_L_P',\n",
       "  'H42_R_P',\n",
       "  'H43_L_S',\n",
       "  'H43_R_P',\n",
       "  'H46_L_S',\n",
       "  'H46_R_S',\n",
       "  'H47_L_P',\n",
       "  'H47_R_S'],\n",
       " 96.4)"
      ]
     },
     "execution_count": 187,
     "metadata": {},
     "output_type": "execute_result"
    }
   ],
   "source": [
    "### STRONG SIDES\n",
    "M1_s36 = randomize_sides(\"S36\", 4, mode=\"full\")\n",
    "M1_s36_E = sum_free_energeis(M1_s36)\n",
    "M1_s36, M1_s36_E"
   ]
  },
  {
   "cell_type": "code",
   "execution_count": 190,
   "id": "67df6ee8",
   "metadata": {},
   "outputs": [
    {
     "data": {
      "text/plain": [
       "(['H54_L_S',\n",
       "  'H54_R_S',\n",
       "  'H53_L_S',\n",
       "  'H53_R_S',\n",
       "  'H50_L_S',\n",
       "  'H50_R_S',\n",
       "  'H49_L_P',\n",
       "  'H49_R_S'],\n",
       " 95.2)"
      ]
     },
     "execution_count": 190,
     "metadata": {},
     "output_type": "execute_result"
    }
   ],
   "source": [
    "### STRONG SIDES\n",
    "M3_s14 = randomize_sides(\"S14\", 4, mode=\"full\")\n",
    "M3_s14_E = sum_free_energeis(M3_s14)\n",
    "M3_s14, M3_s14_E"
   ]
  },
  {
   "cell_type": "code",
   "execution_count": 191,
   "id": "24c46ff7",
   "metadata": {},
   "outputs": [
    {
     "data": {
      "text/plain": [
       "(['H54_L_S',\n",
       "  'H54_R_S',\n",
       "  'H53_L_S',\n",
       "  'H53_R_P',\n",
       "  'H50_L_S',\n",
       "  'H50_R_S',\n",
       "  'H49_L_P',\n",
       "  'H49_R_P'],\n",
       " 96.10000000000001)"
      ]
     },
     "execution_count": 191,
     "metadata": {},
     "output_type": "execute_result"
    }
   ],
   "source": [
    "### STRONG SIDES\n",
    "M5_s14 = randomize_sides(\"S14\", 4, mode=\"full\")\n",
    "M5_s14_E = sum_free_energeis(M5_s14)\n",
    "M5_s14, M5_s14_E"
   ]
  },
  {
   "cell_type": "code",
   "execution_count": 198,
   "id": "c3c62143",
   "metadata": {},
   "outputs": [
    {
     "data": {
      "text/plain": [
       "(['H42_L_S',\n",
       "  'H42_R_P',\n",
       "  'H43_L_S',\n",
       "  'H43_R_S',\n",
       "  'H46_L_S',\n",
       "  'H46_R_P',\n",
       "  'H47_L_S',\n",
       "  'H47_R_P'],\n",
       " 97.59999999999998)"
      ]
     },
     "execution_count": 198,
     "metadata": {},
     "output_type": "execute_result"
    }
   ],
   "source": [
    "### STRONG SIDES\n",
    "M7_s14 = randomize_sides(\"S36\", 4, mode=\"full\")\n",
    "M7_s14_E = sum_free_energeis(M7_s14)\n",
    "M7_s14, M7_s14_E"
   ]
  },
  {
   "cell_type": "code",
   "execution_count": 199,
   "id": "624052db",
   "metadata": {},
   "outputs": [],
   "source": [
    "#### MAKING MONOMERS"
   ]
  },
  {
   "cell_type": "code",
   "execution_count": null,
   "id": "83df7732",
   "metadata": {},
   "outputs": [],
   "source": [
    "M1 = {\"S3\": M1_s36, \"S2\": s25_1}\n",
    "M2 = {\"S5\": complement_side(M1_s36), \"S1\": s14_1, \"S2\": s25_2}\n",
    "M3 = {\"S4\": complement_side(M3_s14), \"S2\": s25_3, \"S3\": s36_1}\n",
    "M4 = {\"S1\": M3_s14, \"S2\": s25_4, \"S3\": s36_2, \"S4\": }"
   ]
  }
 ],
 "metadata": {
  "kernelspec": {
   "display_name": "Python 3 (ipykernel)",
   "language": "python",
   "name": "python3"
  },
  "language_info": {
   "codemirror_mode": {
    "name": "ipython",
    "version": 3
   },
   "file_extension": ".py",
   "mimetype": "text/x-python",
   "name": "python",
   "nbconvert_exporter": "python",
   "pygments_lexer": "ipython3",
   "version": "3.11.3"
  }
 },
 "nbformat": 4,
 "nbformat_minor": 5
}
