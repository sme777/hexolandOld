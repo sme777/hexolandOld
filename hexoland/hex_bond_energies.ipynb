{
 "cells": [
  {
   "cell_type": "code",
   "execution_count": 70,
   "id": "fda9997b",
   "metadata": {},
   "outputs": [],
   "source": [
    "neighbor_thermodynamics = {\n",
    "    \"AA\" : 1.9,\n",
    "    \"AT\" : 1.5,\n",
    "    \"AC\" : 1.3,\n",
    "    \"AG\" : 1.6,\n",
    "    \"TA\" : 0.9,\n",
    "    \"TT\" : 1.9,\n",
    "    \"TC\" : 1.6,\n",
    "    \"TG\" : 1.9,\n",
    "    \"CA\" : 1.9,\n",
    "    \"CT\" : 1.6,\n",
    "    \"CG\" : 3.6,\n",
    "    \"CC\" : 3.1,\n",
    "    \"GT\" : 1.3,\n",
    "    \"GA\" : 1.6,\n",
    "    \"GC\" : 3.1,\n",
    "    \"GG\" : 3.1\n",
    "}"
   ]
  },
  {
   "cell_type": "code",
   "execution_count": null,
   "id": "3e91bb5a",
   "metadata": {},
   "outputs": [],
   "source": []
  },
  {
   "cell_type": "code",
   "execution_count": 71,
   "id": "9fcd3ee6",
   "metadata": {},
   "outputs": [],
   "source": [
    "def compute_free_energy(seq):\n",
    "    free_energy = 0\n",
    "    for i in range(len(seq)):\n",
    "        if i == len(seq)-1:\n",
    "            break\n",
    "        free_energy += neighbor_thermodynamics[f\"{seq[i]}{seq[i+1]}\"]\n",
    "    return round(free_energy, 4)"
   ]
  },
  {
   "cell_type": "code",
   "execution_count": 72,
   "id": "4127a4e3",
   "metadata": {},
   "outputs": [],
   "source": [
    "### LEFT SIDE ###\n",
    "\n",
    "# Side 1\n",
    "H61_L_S, H61_L_P = \"TGATAAA\", \"TCCTCAT\" # EQUIVALENT TO H35_R_P, H35_R_S\n",
    "H60_L_S, H60_L_P = \"CATCGCC\", \"TAAAGCC\" # EQUIVALENT TO H36_R_P, H36_R_S\n",
    "H57_L_S, H57_L_P = \"GAGGAAG\", \"AATAAGT\" # EQUIVALENT TO H36_R_P, H36_R_S\n",
    "H56_L_S, H56_L_P = \"TTTTCAT\", \"TTTAACG\" # EQUIVALENT TO H36_R_P, H36_R_S\n",
    "\n",
    "# Side 2\n",
    "H54_L_S, H54_L_P = \"CTTTTGC\", \"GGGGGTA\" # EQUIVALENT TO H35_R_P, H35_R_S\n",
    "H53_L_S, H53_L_P = \"AAGGCCG\", \"ATAGTAA\" # EQUIVALENT TO H36_R_P, H36_R_S\n",
    "H50_L_S, H50_L_P = \"GACAGCC\", \"AACCGCC\" # EQUIVALENT TO H36_R_P, H36_R_S\n",
    "H49_L_S, H49_L_P = \"TTCCACA\", \"TCCCTCA\" # EQUIVALENT TO H36_R_P, H36_R_S\n",
    "\n",
    "# Side 3\n",
    "H47_L_S, H47_L_P = \"CGCCATA\", \"CAGACCA\" # EQUIVALENT TO H35_R_P, H35_R_S\n",
    "H46_L_S, H46_L_P = \"TCAGAAC\", \"GGCGCAA\" # EQUIVALENT TO H36_R_P, H36_R_S\n",
    "H43_L_S, H43_L_P = \"GACTCCT\", \"TAACGCC\" # EQUIVALENT TO H36_R_P, H36_R_S\n",
    "H42_L_S, H42_L_P = \"AGGCTGA\", \"AAAAGGA\" # EQUIVALENT TO H36_R_P, H36_R_S"
   ]
  },
  {
   "cell_type": "code",
   "execution_count": 73,
   "id": "952b811e",
   "metadata": {},
   "outputs": [],
   "source": [
    "### RIGHT SIDE ### \n",
    "\n",
    "# Side 1\n",
    "H61_R_S, H61_R_P = \"TGCGAAC\", \"TCCGGCC\" # EQUIVALENT TO H35_R_P, H35_R_S\n",
    "H60_R_S, H60_R_P = \"GAGTAGA\", \"GGCAGCC\" # EQUIVALENT TO H36_R_P, H36_R_S\n",
    "H57_R_S, H57_R_P = \"TGTACCA\", \"AAACGAC\" # EQUIVALENT TO H36_R_P, H36_R_S\n",
    "H56_R_S, H56_R_P = \"AAAACAT\", \"CGTTGTA\" # EQUIVALENT TO H36_R_P, H36_R_S\n",
    "\n",
    "# Side 2\n",
    "H54_R_S, H54_R_P = \"AATATGA\", \"ATTCATT\" # EQUIVALENT TO H35_R_P, H35_R_S\n",
    "H53_R_S, H53_R_P = \"TATTCAA\", \"CATAAAT\" # EQUIVALENT TO H36_R_P, H36_R_S\n",
    "H50_R_S, H50_R_P = \"AACAAGA\", \"GGTGGTG\" # EQUIVALENT TO H36_R_P, H36_R_S\n",
    "H49_R_S, H49_R_P = \"GAATCGA\", \"CACCGTC\" # EQUIVALENT TO H36_R_P, H36_R_S\n",
    "\n",
    "# Side 3\n",
    "H47_R_S, H47_R_P = \"CCAATAG\", \"GAGGTCA\" # EQUIVALENT TO H35_R_P, H35_R_S\n",
    "H46_R_S, H46_R_P = \"GAACGCC\", \"TTGATAA\" # EQUIVALENT TO H36_R_P, H36_R_S\n",
    "H43_R_S, H43_R_P = \"CTTTCCG\", \"TAATTCG\" # EQUIVALENT TO H36_R_P, H36_R_S\n",
    "H42_R_S, H42_R_P = \"GCACCGC\", \"CGCGTTT\" # EQUIVALENT TO H36_R_P, H36_R_S"
   ]
  },
  {
   "cell_type": "code",
   "execution_count": 74,
   "id": "9272330b",
   "metadata": {},
   "outputs": [],
   "source": [
    "bond2gibbs = {\n",
    "    \"H61_L_S\": compute_free_energy(H61_L_S),\n",
    "    \"H60_L_S\": compute_free_energy(H60_L_S),\n",
    "    \"H57_L_S\": compute_free_energy(H57_L_S),\n",
    "    \"H56_L_S\": compute_free_energy(H56_L_S),\n",
    "    \"H61_L_P\": compute_free_energy(H61_L_P),\n",
    "    \"H60_L_P\": compute_free_energy(H60_L_P),\n",
    "    \"H57_L_P\": compute_free_energy(H57_L_P),\n",
    "    \"H56_L_P\": compute_free_energy(H56_L_P),\n",
    "    \"H54_L_S\": compute_free_energy(H54_L_S),\n",
    "    \"H53_L_S\": compute_free_energy(H53_L_S),\n",
    "    \"H50_L_S\": compute_free_energy(H50_L_S),\n",
    "    \"H49_L_S\": compute_free_energy(H49_L_S),\n",
    "    \"H54_L_P\": compute_free_energy(H54_L_P),\n",
    "    \"H53_L_P\": compute_free_energy(H53_L_P),\n",
    "    \"H50_L_P\": compute_free_energy(H50_L_P),\n",
    "    \"H49_L_P\": compute_free_energy(H49_L_P),\n",
    "    \"H47_L_S\": compute_free_energy(H47_L_S),\n",
    "    \"H46_L_S\": compute_free_energy(H46_L_S),\n",
    "    \"H43_L_S\": compute_free_energy(H43_L_S),\n",
    "    \"H42_L_S\": compute_free_energy(H42_L_S),\n",
    "    \"H47_L_P\": compute_free_energy(H47_L_P),\n",
    "    \"H46_L_P\": compute_free_energy(H46_L_P),\n",
    "    \"H43_L_P\": compute_free_energy(H43_L_P),\n",
    "    \"H42_L_P\": compute_free_energy(H42_L_P),\n",
    "    \"H61_R_S\": compute_free_energy(H61_R_S),\n",
    "    \"H60_R_S\": compute_free_energy(H60_R_S),\n",
    "    \"H57_R_S\": compute_free_energy(H57_R_S),\n",
    "    \"H56_R_S\": compute_free_energy(H56_R_S),\n",
    "    \"H61_R_P\": compute_free_energy(H61_R_P),\n",
    "    \"H60_R_P\": compute_free_energy(H60_R_P),\n",
    "    \"H57_R_P\": compute_free_energy(H57_R_P),\n",
    "    \"H56_R_P\": compute_free_energy(H56_R_P),\n",
    "    \"H54_R_S\": compute_free_energy(H54_R_S),\n",
    "    \"H53_R_S\": compute_free_energy(H53_R_S),\n",
    "    \"H50_R_S\": compute_free_energy(H50_R_S),\n",
    "    \"H49_R_S\": compute_free_energy(H49_R_S),\n",
    "    \"H54_R_P\": compute_free_energy(H54_R_P),\n",
    "    \"H53_R_P\": compute_free_energy(H53_R_P),\n",
    "    \"H50_R_P\": compute_free_energy(H50_R_P),\n",
    "    \"H49_R_P\": compute_free_energy(H49_R_P),\n",
    "    \"H47_R_S\": compute_free_energy(H47_R_S),\n",
    "    \"H46_R_S\": compute_free_energy(H46_R_S),\n",
    "    \"H43_R_S\": compute_free_energy(H43_R_S),\n",
    "    \"H42_R_S\": compute_free_energy(H42_R_S),\n",
    "    \"H47_R_P\": compute_free_energy(H47_R_P),\n",
    "    \"H46_R_P\": compute_free_energy(H46_R_P),\n",
    "    \"H43_R_P\": compute_free_energy(H43_R_P),\n",
    "    \"H42_R_P\": compute_free_energy(H42_R_P)\n",
    "}"
   ]
  },
  {
   "cell_type": "code",
   "execution_count": 75,
   "id": "dfeb2858",
   "metadata": {},
   "outputs": [],
   "source": [
    "def sum_free_energeis(bonds):\n",
    "    return sum([bond2gibbs[bond] for bond in bonds])"
   ]
  },
  {
   "cell_type": "code",
   "execution_count": 76,
   "id": "d568ca20",
   "metadata": {},
   "outputs": [],
   "source": [
    "bonds_M1_M3 = [\"H54_L_P\", \"H53_R_P\", \"H50_L_S\", \"H49_R_S\"]\n",
    "bonds_M1_M4 = [\"H42_L_P\", \"H43_R_P\", \"H46_L_S\", \"H47_R_S\"]\n",
    "bonds_M2_M3 = [\"H46_L_P\", \"H47_R_P\", \"H43_L_S\", \"H42_R_S\"]"
   ]
  },
  {
   "cell_type": "code",
   "execution_count": 77,
   "id": "17e7ca42",
   "metadata": {},
   "outputs": [
    {
     "data": {
      "text/plain": [
       "48.599999999999994"
      ]
     },
     "execution_count": 77,
     "metadata": {},
     "output_type": "execute_result"
    }
   ],
   "source": [
    "bonds_M1_M3_FE = sum([bond2gibbs[bond] for bond in bonds_M1_M3])\n",
    "bonds_M1_M3_FE"
   ]
  },
  {
   "cell_type": "code",
   "execution_count": 78,
   "id": "7f64cef5",
   "metadata": {},
   "outputs": [
    {
     "data": {
      "text/plain": [
       "44.199999999999996"
      ]
     },
     "execution_count": 78,
     "metadata": {},
     "output_type": "execute_result"
    }
   ],
   "source": [
    "bonds_M1_M4_FE = sum([bond2gibbs[bond] for bond in bonds_M1_M4])\n",
    "bonds_M1_M4_FE"
   ]
  },
  {
   "cell_type": "code",
   "execution_count": 79,
   "id": "b3e59f61",
   "metadata": {},
   "outputs": [
    {
     "data": {
      "text/plain": [
       "54.699999999999996"
      ]
     },
     "execution_count": 79,
     "metadata": {},
     "output_type": "execute_result"
    }
   ],
   "source": [
    "bonds_M2_M3_FE = sum([bond2gibbs[bond] for bond in bonds_M2_M3])\n",
    "bonds_M2_M3_FE"
   ]
  },
  {
   "cell_type": "code",
   "execution_count": 80,
   "id": "b282a301",
   "metadata": {},
   "outputs": [
    {
     "data": {
      "text/plain": [
       "45.0"
      ]
     },
     "execution_count": 80,
     "metadata": {},
     "output_type": "execute_result"
    }
   ],
   "source": [
    "VELVET_bonds = [\"H53_R_P\", \"H49_L_P\", \"H54_L_S\", \"H50_R_S\"]\n",
    "VELVET_bonds_FE = sum([bond2gibbs[bond] for bond in VELVET_bonds])\n",
    "VELVET_bonds_FE"
   ]
  },
  {
   "cell_type": "code",
   "execution_count": 81,
   "id": "a2f7faf5",
   "metadata": {},
   "outputs": [
    {
     "data": {
      "text/plain": [
       "50.300000000000004"
      ]
     },
     "execution_count": 81,
     "metadata": {},
     "output_type": "execute_result"
    }
   ],
   "source": [
    "S1_1_bonds = sum_free_energeis([\"H56_L_P\", \"H57_R_P\", \"H61_L_P\", \"H60_R_P\"])\n",
    "S1_1_bonds"
   ]
  },
  {
   "cell_type": "code",
   "execution_count": 82,
   "id": "a7975d86",
   "metadata": {},
   "outputs": [
    {
     "data": {
      "text/plain": [
       "53.2"
      ]
     },
     "execution_count": 82,
     "metadata": {},
     "output_type": "execute_result"
    }
   ],
   "source": [
    "S1_2_bonds = sum_free_energeis([\"H56_L_P\", \"H57_R_P\", \"H60_L_P\", \"H61_R_P\"])\n",
    "S1_2_bonds"
   ]
  },
  {
   "cell_type": "code",
   "execution_count": 83,
   "id": "053bdabe",
   "metadata": {},
   "outputs": [
    {
     "data": {
      "text/plain": [
       "[('H56_L_S', 10.7),\n",
       " ('H57_R_S', 10.4),\n",
       " ('H56_L_P', 11.5),\n",
       " ('H57_R_P', 11.6),\n",
       " ('H56_R_S', 10.4),\n",
       " ('H57_L_S', 11.4),\n",
       " ('H56_R_P', 10.9),\n",
       " ('H57_L_P', 9.1),\n",
       " ('H60_L_S', 14.8),\n",
       " ('H61_R_S', 13.4),\n",
       " ('H60_L_P', 12.5),\n",
       " ('H61_R_P', 17.6),\n",
       " ('H60_R_S', 8.6),\n",
       " ('H61_L_S', 9.7),\n",
       " ('H60_R_P', 15.9),\n",
       " ('H61_L_P', 11.3)]"
      ]
     },
     "execution_count": 83,
     "metadata": {},
     "output_type": "execute_result"
    }
   ],
   "source": [
    "S14_bonds = [\"H56_L_S\", \"H57_R_S\", \"H56_L_P\", \"H57_R_P\", \"H56_R_S\", \"H57_L_S\", \"H56_R_P\", \"H57_L_P\", \\\n",
    "            \"H60_L_S\", \"H61_R_S\", \"H60_L_P\", \"H61_R_P\", \"H60_R_S\", \"H61_L_S\", \"H60_R_P\", \"H61_L_P\"]\n",
    "[(name, bond2gibbs[name]) for name in S14_bonds]"
   ]
  },
  {
   "cell_type": "code",
   "execution_count": 84,
   "id": "00de79ce",
   "metadata": {},
   "outputs": [
    {
     "data": {
      "text/plain": [
       "42.2"
      ]
     },
     "execution_count": 84,
     "metadata": {},
     "output_type": "execute_result"
    }
   ],
   "source": [
    "S14_1_bond = sum_free_energeis([\"H56_L_S\", \"H57_R_P\", \"H60_R_S\", \"H61_L_P\"])\n",
    "S14_1_bond"
   ]
  },
  {
   "cell_type": "code",
   "execution_count": 85,
   "id": "1d65ce91",
   "metadata": {},
   "outputs": [
    {
     "data": {
      "text/plain": [
       "47.8"
      ]
     },
     "execution_count": 85,
     "metadata": {},
     "output_type": "execute_result"
    }
   ],
   "source": [
    "S14_2_bond = sum_free_energeis([\"H56_L_P\", \"H57_R_S\", \"H60_L_P\", \"H61_R_S\"])\n",
    "S14_2_bond"
   ]
  },
  {
   "cell_type": "code",
   "execution_count": 86,
   "id": "e507a990",
   "metadata": {},
   "outputs": [
    {
     "data": {
      "text/plain": [
       "54.7"
      ]
     },
     "execution_count": 86,
     "metadata": {},
     "output_type": "execute_result"
    }
   ],
   "source": [
    "S14_3_bond = sum_free_energeis([\"H56_R_P\", \"H57_L_S\", \"H60_L_S\", \"H61_R_P\"])\n",
    "S14_3_bond"
   ]
  },
  {
   "cell_type": "code",
   "execution_count": 87,
   "id": "bb5d7c49",
   "metadata": {},
   "outputs": [
    {
     "data": {
      "text/plain": [
       "[('H54_L_S', 12.3),\n",
       " ('H53_R_S', 9.7),\n",
       " ('H54_L_P', 14.6),\n",
       " ('H53_R_P', 9.6),\n",
       " ('H54_R_S', 9.3),\n",
       " ('H53_L_S', 16.4),\n",
       " ('H54_R_P', 10.3),\n",
       " ('H53_L_P', 8.1),\n",
       " ('H50_L_S', 12.6),\n",
       " ('H49_R_S', 11.8),\n",
       " ('H50_L_P', 16.1),\n",
       " ('H49_R_P', 12.8),\n",
       " ('H50_R_S', 10.2),\n",
       " ('H49_L_S', 11.7),\n",
       " ('H50_R_P', 12.6),\n",
       " ('H49_L_P', 12.9)]"
      ]
     },
     "execution_count": 87,
     "metadata": {},
     "output_type": "execute_result"
    }
   ],
   "source": [
    "S25_bonds = [\"H54_L_S\", \"H53_R_S\", \"H54_L_P\", \"H53_R_P\", \"H54_R_S\", \"H53_L_S\", \"H54_R_P\", \"H53_L_P\", \\\n",
    "            \"H50_L_S\", \"H49_R_S\", \"H50_L_P\", \"H49_R_P\", \"H50_R_S\", \"H49_L_S\", \"H50_R_P\", \"H49_L_P\"]\n",
    "[(name, bond2gibbs[name]) for name in S25_bonds]"
   ]
  },
  {
   "cell_type": "code",
   "execution_count": 88,
   "id": "254d282b",
   "metadata": {},
   "outputs": [
    {
     "data": {
      "text/plain": [
       "40.3"
      ]
     },
     "execution_count": 88,
     "metadata": {},
     "output_type": "execute_result"
    }
   ],
   "source": [
    "S25_1_bond = sum_free_energeis([\"H54_R_P\", \"H53_L_P\", \"H50_R_S\", \"H49_L_S\"])\n",
    "S25_1_bond"
   ]
  },
  {
   "cell_type": "code",
   "execution_count": 89,
   "id": "f31970ad",
   "metadata": {},
   "outputs": [
    {
     "data": {
      "text/plain": [
       "47.400000000000006"
      ]
     },
     "execution_count": 89,
     "metadata": {},
     "output_type": "execute_result"
    }
   ],
   "source": [
    "S25_2_bond = sum_free_energeis([\"H54_L_S\", \"H53_R_S\", \"H50_L_S\", \"H49_R_P\"])\n",
    "S25_2_bond"
   ]
  },
  {
   "cell_type": "code",
   "execution_count": 90,
   "id": "b8c3e5b8",
   "metadata": {},
   "outputs": [
    {
     "data": {
      "text/plain": [
       "55.599999999999994"
      ]
     },
     "execution_count": 90,
     "metadata": {},
     "output_type": "execute_result"
    }
   ],
   "source": [
    "S25_3_bond = sum_free_energeis([\"H54_R_P\", \"H53_L_S\", \"H50_L_P\", \"H49_R_P\"])\n",
    "S25_3_bond"
   ]
  },
  {
   "cell_type": "code",
   "execution_count": 91,
   "id": "ad5bdf78",
   "metadata": {},
   "outputs": [
    {
     "data": {
      "text/plain": [
       "(8.199999999999989, 7.1000000000000085)"
      ]
     },
     "execution_count": 91,
     "metadata": {},
     "output_type": "execute_result"
    }
   ],
   "source": [
    "S25_3_bond-S25_2_bond, S25_2_bond-S25_1_bond "
   ]
  },
  {
   "cell_type": "code",
   "execution_count": null,
   "id": "6907a45d",
   "metadata": {},
   "outputs": [],
   "source": []
  },
  {
   "cell_type": "code",
   "execution_count": 92,
   "id": "8d0ca20b",
   "metadata": {},
   "outputs": [
    {
     "data": {
      "text/plain": [
       "[('H42_L_S', 12.9),\n",
       " ('H43_R_S', 13.7),\n",
       " ('H42_L_P', 12.0),\n",
       " ('H43_R_P', 11.4),\n",
       " ('H42_R_S', 16.1),\n",
       " ('H43_L_S', 10.8),\n",
       " ('H42_R_P', 15.4),\n",
       " ('H43_L_P', 13.9),\n",
       " ('H46_L_S', 9.9),\n",
       " ('H47_R_S', 10.9),\n",
       " ('H46_L_P', 16.7),\n",
       " ('H47_R_P', 11.1),\n",
       " ('H46_R_S', 14.6),\n",
       " ('H47_L_S', 14.1),\n",
       " ('H46_R_P', 9.7),\n",
       " ('H47_L_P', 11.4)]"
      ]
     },
     "execution_count": 92,
     "metadata": {},
     "output_type": "execute_result"
    }
   ],
   "source": [
    "S36_bonds = [\"H42_L_S\", \"H43_R_S\", \"H42_L_P\", \"H43_R_P\", \"H42_R_S\", \"H43_L_S\", \"H42_R_P\", \"H43_L_P\", \\\n",
    "            \"H46_L_S\", \"H47_R_S\", \"H46_L_P\", \"H47_R_P\", \"H46_R_S\", \"H47_L_S\", \"H46_R_P\", \"H47_L_P\"]\n",
    "[(name, bond2gibbs[name]) for name in S36_bonds]"
   ]
  },
  {
   "cell_type": "code",
   "execution_count": 93,
   "id": "58e3b5e5",
   "metadata": {},
   "outputs": [
    {
     "data": {
      "text/plain": [
       "44.4"
      ]
     },
     "execution_count": 93,
     "metadata": {},
     "output_type": "execute_result"
    }
   ],
   "source": [
    "S36_1_bond = sum_free_energeis([\"H42_L_P\", \"H43_R_P\", \"H46_L_S\", \"H47_R_P\"])\n",
    "S36_1_bond"
   ]
  },
  {
   "cell_type": "code",
   "execution_count": 94,
   "id": "f3e844e3",
   "metadata": {},
   "outputs": [
    {
     "data": {
      "text/plain": [
       "54.4"
      ]
     },
     "execution_count": 94,
     "metadata": {},
     "output_type": "execute_result"
    }
   ],
   "source": [
    "S36_2_bond = sum_free_energeis([\"H42_L_P\", \"H43_R_S\", \"H46_R_S\", \"H47_L_S\"])\n",
    "S36_2_bond"
   ]
  },
  {
   "cell_type": "code",
   "execution_count": 95,
   "id": "a1d8b41f",
   "metadata": {},
   "outputs": [
    {
     "data": {
      "text/plain": [
       "58.7"
      ]
     },
     "execution_count": 95,
     "metadata": {},
     "output_type": "execute_result"
    }
   ],
   "source": [
    "S36_3_bond = sum_free_energeis([\"H42_R_S\", \"H43_L_P\", \"H46_R_S\", \"H47_L_S\"])\n",
    "S36_3_bond"
   ]
  },
  {
   "cell_type": "code",
   "execution_count": 96,
   "id": "6adbcd87",
   "metadata": {},
   "outputs": [
    {
     "data": {
      "text/plain": [
       "(4.300000000000004, 10.0)"
      ]
     },
     "execution_count": 96,
     "metadata": {},
     "output_type": "execute_result"
    }
   ],
   "source": [
    "S36_3_bond-S36_2_bond, S36_2_bond-S36_1_bond "
   ]
  },
  {
   "cell_type": "code",
   "execution_count": null,
   "id": "3d728094",
   "metadata": {},
   "outputs": [],
   "source": []
  },
  {
   "cell_type": "code",
   "execution_count": 97,
   "id": "e7fe1931",
   "metadata": {},
   "outputs": [
    {
     "data": {
      "text/plain": [
       "44.199999999999996"
      ]
     },
     "execution_count": 97,
     "metadata": {},
     "output_type": "execute_result"
    }
   ],
   "source": [
    "S36_B_U = sum_free_energeis([\"H42_L_P\", \"H43_R_P\", \"H46_L_S\", \"H47_R_S\"])\n",
    "S36_B_U"
   ]
  },
  {
   "cell_type": "code",
   "execution_count": 98,
   "id": "c73f2a34",
   "metadata": {},
   "outputs": [
    {
     "data": {
      "text/plain": [
       "46.0"
      ]
     },
     "execution_count": 98,
     "metadata": {},
     "output_type": "execute_result"
    }
   ],
   "source": [
    "S36_B_D = sum_free_energeis([\"H43_L_S\", \"H43_R_P\", \"H46_R_P\", \"H47_L_S\"])\n",
    "S36_B_D"
   ]
  },
  {
   "cell_type": "code",
   "execution_count": 99,
   "id": "8f5aa4e0",
   "metadata": {},
   "outputs": [
    {
     "data": {
      "text/plain": [
       "45.5"
      ]
     },
     "execution_count": 99,
     "metadata": {},
     "output_type": "execute_result"
    }
   ],
   "source": [
    "S36_T_U = sum_free_energeis([\"H43_L_S\", \"H43_R_S\", \"H46_L_S\", \"H47_R_P\"])\n",
    "S36_T_U"
   ]
  },
  {
   "cell_type": "code",
   "execution_count": 100,
   "id": "73151002",
   "metadata": {},
   "outputs": [
    {
     "data": {
      "text/plain": [
       "47.0"
      ]
     },
     "execution_count": 100,
     "metadata": {},
     "output_type": "execute_result"
    }
   ],
   "source": [
    "S36_T_D = sum_free_energeis([\"H42_L_P\", \"H42_R_P\", \"H46_L_S\", \"H46_R_P\"])\n",
    "S36_T_D"
   ]
  },
  {
   "cell_type": "code",
   "execution_count": null,
   "id": "ff37fb79",
   "metadata": {},
   "outputs": [],
   "source": []
  },
  {
   "cell_type": "code",
   "execution_count": 101,
   "id": "1cbf7ed2",
   "metadata": {},
   "outputs": [
    {
     "data": {
      "text/plain": [
       "46.400000000000006"
      ]
     },
     "execution_count": 101,
     "metadata": {},
     "output_type": "execute_result"
    }
   ],
   "source": [
    "S25_B = sum_free_energeis([\"H54_L_S\", \"H53_R_S\", \"H50_L_S\", \"H49_R_S\"])\n",
    "S25_B"
   ]
  },
  {
   "cell_type": "code",
   "execution_count": 102,
   "id": "42a982c0",
   "metadata": {},
   "outputs": [
    {
     "data": {
      "text/plain": [
       "42.8"
      ]
     },
     "execution_count": 102,
     "metadata": {},
     "output_type": "execute_result"
    }
   ],
   "source": [
    "S25_T = sum_free_energeis([\"H53_L_P\", \"H54_R_P\", \"H49_R_S\", \"H50_L_S\"])\n",
    "S25_T"
   ]
  },
  {
   "cell_type": "code",
   "execution_count": 103,
   "id": "90d08a9f",
   "metadata": {},
   "outputs": [
    {
     "data": {
      "text/plain": [
       "86.7"
      ]
     },
     "execution_count": 103,
     "metadata": {},
     "output_type": "execute_result"
    }
   ],
   "source": [
    "M1T_bond = sum_free_energeis([\"H61_L_P\", \"H60_L_P\", \"H61_L_S\", \"H60_R_S\", \"H56_R_P\", \"H57_R_P\", \"H56_L_S\", \"H57_L_S\"])\n",
    "M1T_bond"
   ]
  },
  {
   "cell_type": "code",
   "execution_count": 104,
   "id": "6ec2a408",
   "metadata": {},
   "outputs": [
    {
     "data": {
      "text/plain": [
       "88.39999999999999"
      ]
     },
     "execution_count": 104,
     "metadata": {},
     "output_type": "execute_result"
    }
   ],
   "source": [
    "M3T_bond = sum_free_energeis([\"H61_L_P\", \"H60_L_P\", \"H61_L_P\", \"H60_R_S\", \"H56_R_P\", \"H56_L_P\", \"H56_L_S\", \"H57_R_P\"])\n",
    "M3T_bond"
   ]
  },
  {
   "cell_type": "code",
   "execution_count": null,
   "id": "876d000b",
   "metadata": {},
   "outputs": [],
   "source": []
  },
  {
   "cell_type": "code",
   "execution_count": 105,
   "id": "cf91fa91",
   "metadata": {},
   "outputs": [
    {
     "data": {
      "text/plain": [
       "102.4"
      ]
     },
     "execution_count": 105,
     "metadata": {},
     "output_type": "execute_result"
    }
   ],
   "source": [
    "M1B_bond = sum_free_energeis([\"H61_L_P\", \"H60_L_P\", \"H61_R_P\", \"H60_R_P\", \"H57_L_S\", \"H57_R_P\", \"H56_L_S\", \"H57_L_S\"])\n",
    "M1B_bond"
   ]
  },
  {
   "cell_type": "code",
   "execution_count": 106,
   "id": "ae529104",
   "metadata": {},
   "outputs": [
    {
     "data": {
      "text/plain": [
       "87.4"
      ]
     },
     "execution_count": 106,
     "metadata": {},
     "output_type": "execute_result"
    }
   ],
   "source": [
    "M3B_bond = sum_free_energeis([\"H61_L_P\", \"H60_L_S\", \"H61_L_S\", \"H60_R_S\", \"H56_R_S\", \"H56_L_P\", \"H56_L_S\", \"H57_R_S\"])\n",
    "M3B_bond"
   ]
  },
  {
   "cell_type": "code",
   "execution_count": null,
   "id": "975dc7d8",
   "metadata": {},
   "outputs": [],
   "source": []
  },
  {
   "cell_type": "code",
   "execution_count": 107,
   "id": "d6308ecc",
   "metadata": {},
   "outputs": [
    {
     "data": {
      "text/plain": [
       "37.5"
      ]
     },
     "execution_count": 107,
     "metadata": {},
     "output_type": "execute_result"
    }
   ],
   "source": [
    "PINK = sum_free_energeis([\"H61_L_P\", \"H61_R_P\", \"H60_R_S\"])\n",
    "PINK"
   ]
  },
  {
   "cell_type": "code",
   "execution_count": 108,
   "id": "8fdb67b6",
   "metadata": {},
   "outputs": [
    {
     "data": {
      "text/plain": [
       "31.700000000000003"
      ]
     },
     "execution_count": 108,
     "metadata": {},
     "output_type": "execute_result"
    }
   ],
   "source": [
    "sum_free_energeis([\"H61_L_S\", \"H61_R_S\", \"H60_R_S\"])"
   ]
  },
  {
   "cell_type": "code",
   "execution_count": 109,
   "id": "60be7a13",
   "metadata": {},
   "outputs": [
    {
     "data": {
      "text/plain": [
       "35.4"
      ]
     },
     "execution_count": 109,
     "metadata": {},
     "output_type": "execute_result"
    }
   ],
   "source": [
    "sum_free_energeis([\"H61_R_S\", \"H61_R_S\", \"H60_R_S\"])"
   ]
  },
  {
   "cell_type": "code",
   "execution_count": 110,
   "id": "f3dc93e1",
   "metadata": {},
   "outputs": [
    {
     "data": {
      "text/plain": [
       "41.6"
      ]
     },
     "execution_count": 110,
     "metadata": {},
     "output_type": "execute_result"
    }
   ],
   "source": [
    "sum_free_energeis([\"H61_R_S\", \"H61_R_S\", \"H60_L_S\"])"
   ]
  },
  {
   "cell_type": "code",
   "execution_count": null,
   "id": "d289f72b",
   "metadata": {},
   "outputs": [],
   "source": []
  },
  {
   "cell_type": "code",
   "execution_count": 111,
   "id": "02fd4867",
   "metadata": {},
   "outputs": [],
   "source": [
    "# GENERATING DELTA G FOR FLAT 8MER"
   ]
  },
  {
   "cell_type": "code",
   "execution_count": 112,
   "id": "a5051e50",
   "metadata": {},
   "outputs": [
    {
     "data": {
      "text/plain": [
       "50.400000000000006"
      ]
     },
     "execution_count": 112,
     "metadata": {},
     "output_type": "execute_result"
    }
   ],
   "source": [
    "S14_1 = sum_free_energeis([\"H42_L_S\", \"H43_R_S\", \"H47_L_S\", \"H46_R_P\"])\n",
    "S14_1"
   ]
  },
  {
   "cell_type": "code",
   "execution_count": 113,
   "id": "ab54feca",
   "metadata": {},
   "outputs": [
    {
     "data": {
      "text/plain": [
       "50.7"
      ]
     },
     "execution_count": 113,
     "metadata": {},
     "output_type": "execute_result"
    }
   ],
   "source": [
    "S14_2 = sum_free_energeis([\"H43_L_S\", \"H42_R_S\", \"H47_L_S\", \"H46_R_P\"])\n",
    "S14_2"
   ]
  },
  {
   "cell_type": "code",
   "execution_count": 114,
   "id": "f7fd4364",
   "metadata": {},
   "outputs": [
    {
     "data": {
      "text/plain": [
       "51.0"
      ]
     },
     "execution_count": 114,
     "metadata": {},
     "output_type": "execute_result"
    }
   ],
   "source": [
    "S14_3 = sum_free_energeis([\"H43_L_P\", \"H42_R_S\", \"H46_L_S\", \"H47_R_P\"])\n",
    "S14_3"
   ]
  },
  {
   "cell_type": "code",
   "execution_count": 115,
   "id": "45724e19",
   "metadata": {},
   "outputs": [
    {
     "data": {
      "text/plain": [
       "51.2"
      ]
     },
     "execution_count": 115,
     "metadata": {},
     "output_type": "execute_result"
    }
   ],
   "source": [
    "S14_4 = sum_free_energeis([\"H43_L_S\", \"H42_R_P\", \"H47_L_S\", \"H47_R_S\"])\n",
    "S14_4"
   ]
  },
  {
   "cell_type": "code",
   "execution_count": 116,
   "id": "98943478",
   "metadata": {},
   "outputs": [],
   "source": [
    "import random\n",
    "\n",
    "def randomize_sides(side, number, mode=\"\"):\n",
    "    \n",
    "    def sampler(helices, left, right):\n",
    "        selections = []\n",
    "        for helix in helices:\n",
    "            selections.extend([helix + random.sample(left, 1)[0], helix + random.sample(right, 1)[0]])\n",
    "        return selections\n",
    "    \n",
    "    def group_randomizer(arr, number):\n",
    "        random_samples = []\n",
    "        for _ in range(number):\n",
    "            random_element = random.choice(arr)\n",
    "            should_add = True\n",
    "            for selected in random_samples:\n",
    "                variant1 = random_element[0] + str(int(random_element[1:3]) + 1) + random_element[3:]\n",
    "                variant2 = random_element[0] + str(int(random_element[1:3]) - 1) + random_element[3:]\n",
    "                \n",
    "                if selected[:5] == variant1 or selected[:5] == variant2 or any(random_element[:6] in string for string in random_samples):\n",
    "                    should_add = False\n",
    "                    break\n",
    "            \n",
    "            if should_add:\n",
    "                random_samples.append(random_element)\n",
    "        return random_samples\n",
    "    s36_sides = [[\"H42_L_S\", \"H43_L_S\", \"H42_L_P\", \"H43_L_P\", \"H42_R_S\", \"H43_R_S\", \"H42_R_P\", \"H43_R_P\"], \\\n",
    "                 [\"H46_L_S\", \"H47_L_S\", \"H46_L_P\", \"H47_L_P\", \"H46_R_S\", \"H47_R_S\", \"H46_R_P\", \"H47_R_P\"]]\n",
    "    s14_sides = [[\"H60_L_S\", \"H61_L_S\", \"H60_L_P\", \"H61_L_P\", \"H60_R_S\", \"H61_R_S\", \"H60_R_P\", \"H61_R_P\"], \\\n",
    "                 [\"H56_L_S\", \"H57_L_S\", \"H56_L_P\", \"H57_L_P\", \"H56_R_S\", \"H57_R_S\", \"H56_R_P\", \"H57_R_P\"]]\n",
    "    s25_sides = [[\"H54_L_S\", \"H53_L_S\", \"H54_L_P\", \"H53_L_P\", \"H54_R_S\", \"H53_R_S\", \"H54_R_P\", \"H53_R_P\"], \\\n",
    "                 [\"H50_L_S\", \"H49_L_S\", \"H50_L_P\", \"H49_L_P\", \"H50_R_S\", \"H49_R_S\", \"H50_R_P\", \"H49_R_P\"]]\n",
    "    \n",
    "    s36_helices = [\"H42\", \"H43\", \"H46\", \"H47\"]\n",
    "    s14_helices = [\"H60\", \"H61\", \"H56\", \"H57\"]\n",
    "    s25_helices = [\"H54\", \"H53\", \"H50\", \"H49\"]\n",
    "    \n",
    "    options_left = [\"_L_S\", \"_L_P\"]\n",
    "    options_right = [\"_R_S\", \"_R_P\"]\n",
    "    \n",
    "    if side == \"S14\":\n",
    "        if mode == \"full\":\n",
    "            return sampler(s14_helices, options_left, options_right)\n",
    "        return group_randomizer(s14_sides[0], number) + group_randomizer(s14_sides[1], number)\n",
    "    elif side == \"S25\":\n",
    "        if mode == \"full\":\n",
    "            return sampler(s25_helices, options_left, options_right)\n",
    "        return group_randomizer(s25_sides[0], number) + group_randomizer(s25_sides[1], number)\n",
    "    elif side == \"S36\":\n",
    "        if mode == \"full\":\n",
    "            return sampler(s36_helices, options_left, options_right)\n",
    "        return group_randomizer(s36_sides[0], number) + group_randomizer(s36_sides[1], number)\n",
    "        \n"
   ]
  },
  {
   "cell_type": "code",
   "execution_count": 270,
   "id": "872b7ccc",
   "metadata": {},
   "outputs": [],
   "source": [
    "def generate_sides(side, count=1, number=4, overlap=0.5, \\\n",
    "                    weak_strength_min=49.0, weak_strength_max=52.0, \\\n",
    "                    strong_strength_min=95.0, strong_strength_max=105.0,\n",
    "                    mode=\"\"):\n",
    "    sides = []\n",
    "    current_count = 0\n",
    "    strength_max = weak_strength_max if mode == \"\" else strong_strength_max\n",
    "    strength_min = weak_strength_min if mode == \"\" else strong_strength_min\n",
    "\n",
    "    while len(sides) < count:\n",
    "        candidate = randomize_sides(side, number, mode)\n",
    "        if not (strength_min < sum_free_energeis(candidate) < strength_max):\n",
    "            continue\n",
    "        side_overlap = False\n",
    "        for side_tuple in sides:\n",
    "            overlap_percent = sum((candidate + side_tuple[0]).count(x) - 1 for x in set(candidate + side_tuple[0])) / len(candidate)\n",
    "            if overlap_percent > overlap:\n",
    "                side_overlap = True\n",
    "                break\n",
    "        # Accept Candidate\n",
    "        if not side_overlap:\n",
    "            sides.append((candidate, sum_free_energeis(candidate)))\n",
    "        current_count += 1\n",
    "\n",
    "        # Reset Sides if stuck at a local minima\n",
    "        if current_count > 1000:\n",
    "            current_count = 0\n",
    "            sides = []\n",
    "    return sides"
   ]
  },
  {
   "cell_type": "code",
   "execution_count": 260,
   "id": "f33cdc18",
   "metadata": {},
   "outputs": [
    {
     "data": {
      "text/plain": [
       "[(['H61_R_S', 'H60_L_S', 'H56_L_P', 'H56_R_P'], 50.6),\n",
       " (['H61_R_S', 'H60_L_S', 'H56_L_P', 'H56_R_S'], 50.1)]"
      ]
     },
     "execution_count": 260,
     "metadata": {},
     "output_type": "execute_result"
    }
   ],
   "source": [
    "S14s = generate_sides(\"S14\", count=2, number=2, overlap=0.75)\n",
    "S14s"
   ]
  },
  {
   "cell_type": "code",
   "execution_count": 263,
   "id": "d4ed820b",
   "metadata": {},
   "outputs": [
    {
     "data": {
      "text/plain": [
       "[(['H53_L_P', 'H54_L_P', 'H50_L_P', 'H49_R_S'], 50.599999999999994),\n",
       " (['H54_R_S', 'H54_L_P', 'H49_R_S', 'H50_L_P'], 51.800000000000004),\n",
       " (['H54_R_P', 'H54_L_P', 'H50_L_P', 'H49_R_S'], 52.8),\n",
       " (['H53_L_P', 'H54_L_P', 'H49_R_S', 'H50_L_P'], 50.6),\n",
       " (['H53_R_P', 'H54_L_P', 'H49_R_S', 'H50_L_P'], 52.1)]"
      ]
     },
     "execution_count": 263,
     "metadata": {},
     "output_type": "execute_result"
    }
   ],
   "source": [
    "S25s = generate_sides(\"S25\", count=5, number=2, overlap=0.75, weak_strength_min=49.0, weak_strength_max=53.0)\n",
    "S25s"
   ]
  },
  {
   "cell_type": "code",
   "execution_count": null,
   "id": "ca70bb9d",
   "metadata": {},
   "outputs": [],
   "source": []
  },
  {
   "cell_type": "code",
   "execution_count": 269,
   "id": "89fad35e",
   "metadata": {},
   "outputs": [
    {
     "data": {
      "text/plain": [
       "[(['H43_L_S', 'H43_R_S', 'H46_R_S', 'H47_R_P'], 50.2),\n",
       " (['H43_R_S', 'H42_L_P', 'H47_R_P', 'H46_R_S'], 51.4),\n",
       " (['H43_L_S', 'H43_R_S', 'H46_R_S', 'H47_R_P'], 50.2),\n",
       " (['H43_L_S', 'H43_R_S', 'H47_R_P', 'H46_R_S'], 50.2)]"
      ]
     },
     "execution_count": 269,
     "metadata": {},
     "output_type": "execute_result"
    }
   ],
   "source": [
    "S36s = generate_sides(\"S36\", count=4, number=2, overlap=0.75)\n",
    "S36s"
   ]
  },
  {
   "cell_type": "code",
   "execution_count": null,
   "id": "ee6b01aa",
   "metadata": {},
   "outputs": [],
   "source": []
  },
  {
   "cell_type": "code",
   "execution_count": null,
   "id": "b2d32c91",
   "metadata": {},
   "outputs": [],
   "source": [
    "#Missing H46_L_S_AND_H47_L_P with sequence: AGACCACGCCATATTTTGTTAATCATCAACAT\n",
    "# Missing H42_L_P_AND_H43_L_P with sequence: AACGCCGACTCCTCAAGAGAAGGATTAGGAGGGCAAAGCGCCATTCGCCATAGGCTGAAAAAGG"
   ]
  },
  {
   "cell_type": "code",
   "execution_count": 331,
   "id": "e78b7cc9",
   "metadata": {},
   "outputs": [
    {
     "data": {
      "text/plain": [
       "[(['H42_L_S',\n",
       "   'H42_R_S',\n",
       "   'H43_L_P',\n",
       "   'H43_R_P',\n",
       "   'H46_L_P',\n",
       "   'H46_R_P',\n",
       "   'H47_L_P',\n",
       "   'H47_R_S'],\n",
       "  103.00000000000001),\n",
       " (['H42_L_P',\n",
       "   'H42_R_P',\n",
       "   'H43_L_S',\n",
       "   'H43_R_S',\n",
       "   'H46_L_S',\n",
       "   'H46_R_P',\n",
       "   'H47_L_S',\n",
       "   'H47_R_S'],\n",
       "  96.5)]"
      ]
     },
     "execution_count": 331,
     "metadata": {},
     "output_type": "execute_result"
    }
   ],
   "source": [
    "### STRONG SIDES\n",
    "S36_FULLs = generate_sides(\"S36\", mode=\"full\", count=2, number=4, overlap=0.25)\n",
    "S36_FULLs"
   ]
  },
  {
   "cell_type": "code",
   "execution_count": null,
   "id": "275a22be",
   "metadata": {},
   "outputs": [],
   "source": [
    "Missing H61_L_S"
   ]
  },
  {
   "cell_type": "code",
   "execution_count": 298,
   "id": "624052db",
   "metadata": {},
   "outputs": [
    {
     "data": {
      "text/plain": [
       "[(['H60_L_S',\n",
       "   'H60_R_P',\n",
       "   'H61_L_S',\n",
       "   'H61_R_P',\n",
       "   'H56_L_P',\n",
       "   'H56_R_S',\n",
       "   'H57_L_S',\n",
       "   'H57_R_S'],\n",
       "  101.70000000000002),\n",
       " (['H60_L_P',\n",
       "   'H60_R_P',\n",
       "   'H61_L_P',\n",
       "   'H61_R_S',\n",
       "   'H56_L_S',\n",
       "   'H56_R_P',\n",
       "   'H57_L_S',\n",
       "   'H57_R_P'],\n",
       "  97.7)]"
      ]
     },
     "execution_count": 298,
     "metadata": {},
     "output_type": "execute_result"
    }
   ],
   "source": [
    "S14_FULLs = generate_sides(\"S14\", mode=\"full\", count=2, number=4, overlap=0.25)\n",
    "S14_FULLs"
   ]
  },
  {
   "cell_type": "code",
   "execution_count": 299,
   "id": "07a90711",
   "metadata": {},
   "outputs": [],
   "source": [
    "def complement_side(selection):\n",
    "\n",
    "    helix_comp = {\n",
    "        \"H61\": \"H35\",\n",
    "        \"H60\": \"H36\",\n",
    "        \"H57\": \"H39\",\n",
    "        \"H56\": \"H40\",\n",
    "        \"H42\": \"H68\",\n",
    "        \"H43\": \"H67\",\n",
    "        \"H46\": \"H64\",\n",
    "        \"H47\": \"H63\",\n",
    "        \"H54\": \"H70\",\n",
    "        \"H53\": \"H71\",\n",
    "        \"H50\": \"H32\",\n",
    "        \"H49\": \"H33\"\n",
    "    }\n",
    "\n",
    "    plug2socket = {\n",
    "        \"P\": \"S\",\n",
    "        \"S\": \"P\"\n",
    "    }\n",
    "\n",
    "\n",
    "    return [(helix_comp[s[:3]] + s[3:6] + plug2socket[s[-1]]) for s in selection] "
   ]
  },
  {
   "cell_type": "code",
   "execution_count": null,
   "id": "970cdce8",
   "metadata": {},
   "outputs": [],
   "source": []
  },
  {
   "cell_type": "code",
   "execution_count": null,
   "id": "732ed9cb",
   "metadata": {},
   "outputs": [],
   "source": []
  },
  {
   "cell_type": "code",
   "execution_count": 332,
   "id": "83df7732",
   "metadata": {},
   "outputs": [],
   "source": [
    "M1 = {\"S3\": S36_FULLs[0][0], \"S2\": S25s[0][0]}\n",
    "M2 = {\"S6\": complement_side(S36_FULLs[0][0]), \"S1\": S14s[0][0], \"S2\": S25s[1][0]}\n",
    "M3 = {\"S4\": complement_side(S14_FULLs[0][0]), \"S2\": S25s[2][0], \"S3\": S36s[0][0]}\n",
    "M4 = {\"S1\": S14_FULLs[0][0], \"S2\": S25s[3][0], \"S3\": S36s[1][0], \"S4\": complement_side(S14s[0][0]), \"S5\": complement_side(S25s[0][0])}\n",
    "M5 = {\"S1\": S14s[1][0], \"S2\": S25s[4][0], \"S4\": complement_side(S14_FULLs[1][0]), \"S5\": complement_side(S25s[3][0]), \"S6\": complement_side(S36s[0][0])}\n",
    "M6 = {\"S1\": S14_FULLs[1][0], \"S5\": complement_side(S25s[1][0]), \"S6\": complement_side(S36s[1][0])}\n",
    "M7 = {\"S3\": S36_FULLs[1][0], \"S4\": complement_side(S14s[1][0]), \"S5\": complement_side(S25s[2][0])}\n",
    "M8 = {\"S6\": complement_side(S36_FULLs[1][0]), \"S5\": complement_side(S25s[4][0])}"
   ]
  },
  {
   "cell_type": "code",
   "execution_count": 301,
   "id": "ac8361b5",
   "metadata": {},
   "outputs": [],
   "source": [
    "import pandas as pd"
   ]
  },
  {
   "cell_type": "code",
   "execution_count": 302,
   "id": "8b6cfb04",
   "metadata": {},
   "outputs": [],
   "source": [
    "bond_map = pd.read_csv(\"bond_sequence_map.csv\")\n",
    "all_seqs = pd.read_csv(\"all_hex_sequences.csv\")"
   ]
  },
  {
   "cell_type": "code",
   "execution_count": 303,
   "id": "ae7e54a9",
   "metadata": {},
   "outputs": [],
   "source": [
    "bond_seqs = bond_map[\"Sequence\"].tolist()"
   ]
  },
  {
   "cell_type": "code",
   "execution_count": 304,
   "id": "ad29c227",
   "metadata": {},
   "outputs": [
    {
     "name": "stdout",
     "output_type": "stream",
     "text": [
      "Missing H57_L_P with sequence: ATAAGTGAGGAAGTTTCCATTAAACGGGTAAAGTAATACTTACTAATGAGGTTAAAGGGATGTCCATTTTGACGGGCCAAC\n",
      "Missing H46_L_S_AND_H47_L_P with sequence: AGACCACGCCATATTTTGTTAATCATCAACAT\n",
      "Missing H42_L_P_AND_H43_L_P with sequence: AACGCCGACTCCTCAAGAGAAGGATTAGGAGGGCAAAGCGCCATTCGCCATAGGCTGAAAAAGG\n",
      "Missing H35_L_P with sequence: ATAATCCTTGAATACCAAGTTACAAAATGGCAATTCCAGAAGAAACAAAAGCCGCCCAAACAAATAAATCCTCATTGATAA\n",
      "Missing H71_L_P_AND_H70_L_P with sequence: AGGCCGATAGTAAAATGTTTAGTTTGCCAGAGGGGGTACTTTTG\n",
      "Missing H33_L_P_AND_H32_L_S with sequence: TCCACATCCCTCAGAGCCGCCACCCTCAGAGCGCAACCAGCCCACCACCGGA\n"
     ]
    }
   ],
   "source": [
    "for index, row in bond_map.iterrows():\n",
    "    if row['Sequence'] not in all_seqs[\"Sequence2\"].tolist():\n",
    "        print(f\"Missing {row['Name']} with sequence: {row['Sequence']}\")"
   ]
  },
  {
   "cell_type": "code",
   "execution_count": 327,
   "id": "d8bb780b",
   "metadata": {},
   "outputs": [],
   "source": [
    "def sequence_generator(monomer, max_size=8):\n",
    "    \n",
    "    def add_blockers(side):\n",
    "        blocked_seqs = []\n",
    "        blocker_map = {\"S1\": [\"H61\", \"H60\", \"H57\", \"H56\"],\n",
    "                       \"S2\": [\"H54\", \"H53\", \"H50\", \"H49\"],\n",
    "                       \"S3\": [\"H47\", \"H46\", \"H43\", \"H42\"],\n",
    "                       \"S4\": [\"H35\", \"H36\", \"H39\", \"H40\"],\n",
    "                       \"S5\": [\"H70\", \"H71\", \"H32\", \"H33\"],\n",
    "                       \"S6\": [\"H68\", \"H67\", \"H64\", \"H63\"]}\n",
    "        exceptions = {\n",
    "            \"S1\": [\"H60_R_B_AND_H61_R_B\"],\n",
    "            \"S2\": [],\n",
    "            \"S3\": [\"H42_L_B_AND_H43_L_B\", \"H46_L_B_AND_H47_L_B\"],\n",
    "            \"S4\": [],\n",
    "            \"S5\": [\"H71_L_B_AND_H70_L_B\", \"H33_L_B_AND_H32_L_B\"],\n",
    "            \"S6\": []\n",
    "        }\n",
    "        for helix in blocker_map[side]:\n",
    "            if len(bond_map[(bond_map['Name']==f'{helix}_L_B')]) > 0:\n",
    "                blocked_seqs.append(bond_map[(bond_map['Name']==f'{helix}_L_B')][\"Sequence\"].tolist()[0])\n",
    "            if len(bond_map[(bond_map['Name']==f'{helix}_R_B')]) > 0:\n",
    "                blocked_seqs.append(bond_map[(bond_map['Name']==f'{helix}_R_B')][\"Sequence\"].tolist()[0])\n",
    "                \n",
    "\n",
    "        for exception in exceptions[side]:\n",
    "            blocked_seqs.append(bond_map[(bond_map['Name']==exception)][\"Sequence\"].tolist()[0])\n",
    "\n",
    "        return blocked_seqs\n",
    "    \n",
    "    def add_plugs_and_sockets(side, bonds, max_size):\n",
    "        \n",
    "        plugs_and_sockets = []\n",
    "        orbitals = {\n",
    "            \"S1\": [\"H61_R\", \"H61_L\", \"H60_R\", \"H60_L\", \"H57_R\", \"H57_L\", \"H56_R\", \"H56_L\"],\n",
    "            \"S2\": [\"H54_R\", \"H54_L\", \"H53_R\", \"H53_L\", \"H50_R\", \"H50_L\", \"H49_R\", \"H49_L\"],\n",
    "            \"S3\": [\"H47_R\", \"H47_L\", \"H46_R\", \"H46_L\", \"H43_R\", \"H43_L\", \"H42_R\", \"H42_L\"],\n",
    "            \"S4\": [\"H35_R\", \"H35_L\", \"H36_R\", \"H36_L\", \"H39_R\", \"H39_L\", \"H40_R\", \"H40_L\"],\n",
    "            \"S5\": [\"H70_R\", \"H70_L\", \"H71_R\", \"H71_L\", \"H32_R\", \"H32_L\", \"H33_R\", \"H33_L\"],\n",
    "            \"S6\": [\"H68_R\", \"H68_L\", \"H67_R\", \"H67_L\", \"H64_R\", \"H64_L\", \"H63_R\", \"H63_L\"]\n",
    "        }\n",
    "\n",
    "        exception_pairs = {\n",
    "            \"H71_L\": \"H70_L\",\n",
    "            \"H70_L\": \"H71_L\",\n",
    "            \"H33_L\": \"H32_L\",\n",
    "            \"H32_L\": \"H33_L\",\n",
    "            \"H60_R\": \"H61_R\",\n",
    "            \"H61_R\": \"H60_R\",\n",
    "            \"H42_L\": \"H43_L\",\n",
    "            \"H43_L\": \"H42_L\",\n",
    "            \"H46_L\": \"H47_L\",\n",
    "            \"H47_L\": \"H46_L\",\n",
    "        }\n",
    "\n",
    "        # Add vacant sockets for partially filled sides\n",
    "        for orbital in orbitals[side]:\n",
    "            if any(orbital in string for string in bonds):\n",
    "                continue\n",
    "            else:\n",
    "                if orbital not in exception_pairs:\n",
    "                    # plugs_and_sockets.append(f\"{orbital}_S\")\n",
    "                    plugs_and_sockets.append(bond_map[(bond_map['Name']==f\"{orbital}_S\")][\"Sequence\"].tolist()[0])\n",
    "                elif orbital in exception_pairs and not any(exception_pairs[orbital] in string for string in bonds):\n",
    "                    if len(bond_map[(bond_map['Name']==f\"{orbital}_S_AND_{exception_pairs[orbital]}_S\")]) > 0:\n",
    "                        plugs_and_sockets.append(bond_map[(bond_map['Name']==f\"{orbital}_S_AND_{exception_pairs[orbital]}_S\")][\"Sequence\"].tolist()[0])\n",
    "                    if len(bond_map[(bond_map['Name']==f\"{exception_pairs[orbital]}_S_AND_{orbital}_S\")]) > 0:\n",
    "                        plugs_and_sockets.append(bond_map[(bond_map['Name']==f\"{exception_pairs[orbital]}_S_AND_{orbital}_S\")][\"Sequence\"].tolist()[0])\n",
    "\n",
    "\n",
    "        for bond in bonds:\n",
    "            if len(bond_map[(bond_map['Name']==bond)]) > 0:\n",
    "                # plugs_and_sockets.append(bond)\n",
    "                plugs_and_sockets.append(bond_map[(bond_map['Name']==bond)][\"Sequence\"].tolist()[0])\n",
    "            else:\n",
    "                pair = exception_pairs[bond[:5]]\n",
    "                exists = next((string for string in bonds if pair in string), None)\n",
    "                if exists is not None:\n",
    "                    if len(bond_map[(bond_map['Name']==f\"{bond}_AND_{exists}\")]) > 0:\n",
    "                        # plugs_and_sockets.append(f\"{bond}_AND_{exists}\")\n",
    "                        plugs_and_sockets.append(bond_map[(bond_map['Name']==f\"{bond}_AND_{exists}\")][\"Sequence\"].tolist()[0])\n",
    "                    elif len(bond_map[(bond_map['Name']==f\"{exists}_AND_{bond}\")]) > 0:\n",
    "                        # plugs_and_sockets.append(f\"{exists}_AND_{bond}\")\n",
    "                        plugs_and_sockets.append(bond_map[(bond_map['Name']==f\"{exists}_AND_{bond}\")][\"Sequence\"].tolist()[0])\n",
    "                else:\n",
    "                    if len(bond_map[(bond_map['Name']==f\"{bond}_AND_{pair}_S\")]) > 0:\n",
    "                        # plugs_and_sockets.append(f\"{bond}_AND_{pair}_S\")\n",
    "                        plugs_and_sockets.append(bond_map[(bond_map['Name']==f\"{bond}_AND_{pair}_S\")][\"Sequence\"].tolist()[0])\n",
    "                    elif len(bond_map[(bond_map['Name']==f\"{pair}_S_AND_{bond}\")]) > 0:\n",
    "                        # plugs_and_sockets.append(f\"{pair}_S_AND_{bond}\")\n",
    "                        plugs_and_sockets.append(bond_map[(bond_map['Name']==f\"{pair}_S_AND_{bond}\")][\"Sequence\"].tolist()[0])\n",
    "        # print(len(plugs_and_sockets))\n",
    "        return plugs_and_sockets\n",
    "\n",
    "    seq_arr = []\n",
    "    sides = [\"S1\", \"S2\", \"S3\", \"S4\", \"S5\", \"S6\"]\n",
    "\n",
    "    for side in sides:\n",
    "        if side not in monomer:\n",
    "            seq_arr.append(add_blockers(side))\n",
    "        else:\n",
    "            seq_arr.append(add_plugs_and_sockets(side, monomer[side], max_size))\n",
    "\n",
    "    \n",
    "    return list(set([item for sublist in seq_arr for item in (sublist if isinstance(sublist, list) else [sublist])])) #[list(set(arr)) for arr in seq_arr]\n",
    "        \n",
    "\n"
   ]
  },
  {
   "cell_type": "code",
   "execution_count": 174,
   "id": "ff2e45ac",
   "metadata": {},
   "outputs": [],
   "source": [
    "passive_seqs = sequence_generator({})"
   ]
  },
  {
   "cell_type": "code",
   "execution_count": 175,
   "id": "1367a735",
   "metadata": {},
   "outputs": [],
   "source": [
    "### CONFIRM THAT THE CODE OUTPUTS THE CORRECT SEQUENCES\n",
    "\n",
    "raw_csv = pd.read_csv(\"hex_passive_sequences.csv\")\n",
    "\n",
    "for seq in passive_seqs:\n",
    "    if seq not in raw_csv[\"Sequence\"].tolist():\n",
    "        print(f\"{seq} is not present in the original file!\")"
   ]
  },
  {
   "cell_type": "code",
   "execution_count": 333,
   "id": "e912e121",
   "metadata": {},
   "outputs": [],
   "source": [
    "M1_seqs = sequence_generator(M1)\n",
    "M2_seqs = sequence_generator(M2)\n",
    "M3_seqs = sequence_generator(M3)\n",
    "M4_seqs = sequence_generator(M4)\n",
    "M5_seqs = sequence_generator(M5)\n",
    "M6_seqs = sequence_generator(M6)\n",
    "M7_seqs = sequence_generator(M7)\n",
    "M8_seqs = sequence_generator(M8)"
   ]
  },
  {
   "cell_type": "code",
   "execution_count": 334,
   "id": "92fcba29",
   "metadata": {},
   "outputs": [],
   "source": [
    "pd.DataFrame(M1_seqs, columns=[\"Sequence\"]).to_csv(\"~/Desktop/hexoland/octamer2/octamer2_M1.csv\", index=None)\n",
    "pd.DataFrame(M2_seqs, columns=[\"Sequence\"]).to_csv(\"~/Desktop/hexoland/octamer2/octamer2_M2.csv\", index=None)\n",
    "pd.DataFrame(M3_seqs, columns=[\"Sequence\"]).to_csv(\"~/Desktop/hexoland/octamer2/octamer2_M3.csv\", index=None)\n",
    "pd.DataFrame(M4_seqs, columns=[\"Sequence\"]).to_csv(\"~/Desktop/hexoland/octamer2/octamer2_M4.csv\", index=None)\n",
    "pd.DataFrame(M5_seqs, columns=[\"Sequence\"]).to_csv(\"~/Desktop/hexoland/octamer2/octamer2_M5.csv\", index=None)\n",
    "pd.DataFrame(M6_seqs, columns=[\"Sequence\"]).to_csv(\"~/Desktop/hexoland/octamer2/octamer2_M6.csv\", index=None)\n",
    "pd.DataFrame(M7_seqs, columns=[\"Sequence\"]).to_csv(\"~/Desktop/hexoland/octamer2/octamer2_M7.csv\", index=None)\n",
    "pd.DataFrame(M8_seqs, columns=[\"Sequence\"]).to_csv(\"~/Desktop/hexoland/octamer2/octamer2_M8.csv\", index=None)"
   ]
  },
  {
   "cell_type": "code",
   "execution_count": 101,
   "id": "ebb3e7f5",
   "metadata": {},
   "outputs": [],
   "source": []
  },
  {
   "cell_type": "code",
   "execution_count": 102,
   "id": "39ae10d4",
   "metadata": {},
   "outputs": [
    {
     "data": {
      "text/plain": [
       "(['ATAAATTATTCAACCGTTAGGTGAAGAATAATAATTTTTTCACGTT',\n",
       "  'CGGGATACGAGGGTAGCAACGGTACGCAGGCCAC',\n",
       "  'AAGATTAATCTGGTGCGGTCAATTTTTTATTTAAACAT',\n",
       "  'CTTACCACAACGCCACGCAGAGTAATAAGTTTTTT',\n",
       "  'ACCGCCGACAGCCCTCATAGTTCCTGTAGTTGTAAA',\n",
       "  'TTTTTTCCGGCCAGAGCTGGTCAGCAGCAACATATATGAGAATCCATCTTCTATAAGAATAAACACCCGACAA',\n",
       "  'TTTTTATAGTAAAATGTTTAGTTTGCCAGAGGGGGTATTTTT',\n",
       "  'TTTTTTAAAGCCAGAATGGAAAGCGCAGTCTATATTCAGCCAGCATTGACAG',\n",
       "  'ATTGCGTTGCGCTCGCCAGCTGGCTTGATTTTGATAATTTTT',\n",
       "  'TTTTTGAGGTCATTTTTGCGGTTGCTCCGATGGTTATGCGAT',\n",
       "  'TTTTTATTCATTGAAAAATCCTGCGGGCAGTGCTCACAGAGTGA',\n",
       "  'AAGCCTTTGACCCTATACGTAATTGTACCATTTTT',\n",
       "  'TTTTTGAGTAGATTTAGTTTGTCCCAATTCTGCGAACTTTTT',\n",
       "  'GGCTACAGAGGCTTAGACTTTTTCATTTTTT',\n",
       "  'ACGTGGCGAGAAAGATGGCCCAAAGAATCTTTTCATGCTCCATGTTACTGTGTCGAATGGTCAATCATCGCCTTTTT',\n",
       "  'CCTTTACAAGAACCCAAACGGGGACGACGCCAGCTTTCCGTAATTC',\n",
       "  'TGATAAGAACGCCATCAAAAATAATGTGGGAAACCAGCAGAAAGGA',\n",
       "  'TGGGAATTTGCGGTTAGTCAGATCGCGTTTTTTTT',\n",
       "  'ATTGAGGTCCCGACATAGCAAGTTTATCGTGCGGGTCCCAGTCACGACGTTGTATTTTT',\n",
       "  'CATACATCATAAGGATGAACGGTGTACAGACCATTTTT',\n",
       "  'TTTTTAAAACATTATATTTCAGAGCTAAGTTGTAGCGCTCATTCTGACCTGAAAG',\n",
       "  'CGGTTTAGAAAATCTCCAAAAGAGTCTGGAGCAA',\n",
       "  'ATTAATTGATGCTGCGTCTCGTCGCTGGCAGCCTTTTT',\n",
       "  'TTTTTTAATTCGAGCTTCAAATTCAAATAAGCAAAGCGGATTGCATCAAAAAGATTTT',\n",
       "  'TTTTTTTTAACGGGGTCAGTGTGTACTGAACAGCGAGCAGTTGTCTGAG',\n",
       "  'CTTCTGGTGCCGGGCGATCGAACAATATAAAGTACGGAATC',\n",
       "  'GCGAACCAAGGTTAAATACCGAGAGAGAATCAGAAAAGCCCCTTTAACCAATAGGAGGTC',\n",
       "  'TTTTTTGATAAATTTAGCCGGAAAGGGTGGTTTTTAGCCCGA',\n",
       "  'TTTTTTGTTAGAGCTGCGCGTGTGCTTTAGAACCCCAAATCACCATCA',\n",
       "  'ATAAAGTAGCTCGAATTCGTAGCGGTGCGAACTAACATAACGCCTTTTT',\n",
       "  'ATGAACTACCCCGGTTGATAATAACATAACTGAACAATATT',\n",
       "  'TTTTTGAGGAAGTTTCCATTAAACGGGTAAAGTAATACTTACTAATGAGGTTAAAGGGATGTCCATTTTGACGGGCCAAC',\n",
       "  'TTTTTTCCCTCAGAGCCGCCACCCTCAGAGCGCAACCAGCCCACCACCGGAACCGCCTTTTT',\n",
       "  'TCAAGAGAAGGATTAGGAGGGCAAAGCGCCATTCGCCATAGGCTGAAAAAGG',\n",
       "  'CGACTTGGCAAGGCGAGGTGTATCCCACCAACGGCAGCACCGTCTTTTT',\n",
       "  'TTGGCAGTTTTATAATATTCGTGCAGGGAGTTAA',\n",
       "  'TTTTTAAACGACGGCCATTTGTGACCTTTAGCATAGCGCAGTACAGTTATTAACGGCTG',\n",
       "  'ATTTTGTTAATCATCAACATCAGAACGGCGCA',\n",
       "  'TTTTTGGTGGTGCCCCAGCATTCCTTTGATATCAAAATTATTTGAATAT',\n",
       "  'TTTTTAAAAGGAATTACGAGGGCAGATACGGAACAGTAACAACACCACG',\n",
       "  'ATAATCCTTGAATACCAAGTTACAAAATGGCAATTCCAGAAGAAACAAAAGCCGCCCAAACAAATAAATCCTCATTTTTT',\n",
       "  'TTTTTGGCGCATAGGCTAATCAACACATTATGTTACCTTTACACTTTGAGGG',\n",
       "  'ATCCCCCCGGAATCGTCATAAATTTTTT',\n",
       "  'TTTTTGAACGCCATCAAAAATAATGTGGGAAACCAGCAGAAAGGA',\n",
       "  'TTTTTCGCCATATTTTGTTAATCATCAACATCAGAACTTTTT',\n",
       "  'TTTTTTGTTAGAGCTGCGCGTGTGCTTTAGAACCCCAAATCACCATCAATATGAATTCAT',\n",
       "  'CGGGATACGAGGGTAGCAACGGTACGCAGGCCAC',\n",
       "  'TGGGAATTTGCGGTTAGTCAGATCGCGTTTGCACCG',\n",
       "  'AAGATTAATCTGGTGCGGTCAATTTTTTATTTAAACAT',\n",
       "  'CTTACCACAACGCCACGCAGAGTAATAAGTTTTTT',\n",
       "  'TTTTTATAGTAAAATGTTTAGTTTGCCAGAGGGGGTATTTTT',\n",
       "  'TTTTTTCCGGCCAGAGCTGGTCAGCAGCAACATATATGAGAATCCATCTTCTATAAGAATAAACACCCGACAA',\n",
       "  'TAGGCTAATCAACACATTATGTTACCTTTACACTTTGAGGG',\n",
       "  'TTTTTTAAAGCCAGAATGGAAAGCGCAGTCTATATTCAGCCAGCATTGACAG',\n",
       "  'ATAAAGTAGCTCGAATTCGTAGCGGTGCGAACTAACATAACGCCGACTCC',\n",
       "  'CATACATCATAAGGATGAACGGTGTACAGACCACGCCAT',\n",
       "  'TTTTTATTCATTGAAAAATCCTGCGGGCAGTGCTCACAGAGTGA',\n",
       "  'AAGCCTTTGACCCTATACGTAATTGTACCAAAACGA',\n",
       "  'GCGAACCAAGGTTAAATACCGAGAGAGAATCAGAAAAGCCCCTTTAACCAATAGTTTTT',\n",
       "  'GTTTCCATTAAACGGGTAAAGTAATACTTACTAATGAGGTTAAAGGGATGTCCATTTTGACGGGCCAAC',\n",
       "  'ACCGTTAGGTGAAGAATAATAATTTTTTCACGTT',\n",
       "  'GGCTACAGAGGCTTAGACTT',\n",
       "  'ATTGAGGTCCCGACATAGCAAGTTTATCGTGCGGGTCCCAGTCACGACGTTGTATTTTT',\n",
       "  'CGGTTTAGAAAATCTCCAAAAGAGTCTGGAGCAA',\n",
       "  'ATTAATTGATGCTGCGTCTCGTCGCTGGCAGCCTTTTT',\n",
       "  'TTTTTTTTAACGGGGTCAGTGTGTACTGAACAGCGAGCAGTTGTCTGAG',\n",
       "  'ATTGCGTTGCGCTCGCCAGCTGGCTTGATTT',\n",
       "  'ATGAACTACCCCGGTTGATAATAACATAACTGAACAATATT',\n",
       "  'ACGTGGCGAGAAAGATGGCCCAAAGAATCTTTTCATGCTCCATGTTACTGTGTCGAATGGTCAATCATCGCCTAAAGC',\n",
       "  'GAGCTTCAAATTCAAATAAGCAAAGCGGATTGCATCAAAAAGATTTT',\n",
       "  'TTTTTTCCCTCAGAGCCGCCACCCTCAGAGCGCAACCAGCCCACCACCGGAACCGCCTTTTT',\n",
       "  'GCAGCCGAGTAGATTTAGTTTGTCCCAATTCT',\n",
       "  'CGACTTGGCAAGGCGAGGTGTATCCCACCAACGGCAGCACCGTCTTTTT',\n",
       "  'TTGGCAGTTTTATAATATTCGTGCAGGGAGTTAA',\n",
       "  'TTTTTAAACGACGGCCATTTGTGACCTTTAGCATAGCGCAGTACAGTTATTAACGGCTG',\n",
       "  'CCTCATAGTTCCTGTAGTTGTAAA',\n",
       "  'TTTTTGGTGGTGCCCCAGCATTCCTTTGATATCAAAATTATTTGAATAT',\n",
       "  'TTATATTTCAGAGCTAAGTTGTAGCGCTCATTCTGACCTGAAAG',\n",
       "  'TTTTTGCACCGCTTCTGGTGCCGGGCGATCGAACAATATAAAGTACGGAATC',\n",
       "  'ATAATCCTTGAATACCAAGTTACAAAATGGCAATTCCAGAAGAAACAAAAGCCGCCCAAACAAATAAATCCTCATTTTTT',\n",
       "  'TTTTTGACTCCTCAAGAGAAGGATTAGGAGGGCAAAGCGCCATTCGCCATAGGCTGATTTTT',\n",
       "  'ATTTTTGCGGTTGCTCCGATGGTTATGCGAT',\n",
       "  'CCTTTACAAGAACCCAAACGGGGACGACGCCAGCTTTCCGTTTTT',\n",
       "  'ATCCCCCCGGAATCGTCATAAATTTTTT',\n",
       "  'AATTACGAGGGCAGATACGGAACAGTAACAACACCACG',\n",
       "  'ATTTAGCCGGAAAGGGTGGTTTTTAGCCCGA',\n",
       "  'TTTTTTGTTAGAGCTGCGCGTGTGCTTTAGAACCCCAAATCACCATCAATATGAATTCAT',\n",
       "  'CGGGATACGAGGGTAGCAACGGTACGCAGGCCAC',\n",
       "  'CGGTTTAGAAAATCTCCAAAAGAGTCTGGAGCAAACAAGAGGTGGT',\n",
       "  'TTTTTATAGTAAAATGTTTAGTTTGCCAGAGGGGGTATTTTT',\n",
       "  'GTACCAAAACGACGGCCATTTGTGACCTTTAGCATAGCGCAGTACAGTTATTAACGGCTG',\n",
       "  'ATTGAGGTCCCGACATAGCAAGTTTATCGTGCGGGTCCCAGTCACGACGTTGTAAAAACA',\n",
       "  'CCTTTACAAGAACCCAAACGGGGACGACGCCAGC',\n",
       "  'ATTGCGTTGCGCTCGCCAGCTGGCTTGATTTTGATAATTTTT',\n",
       "  'GCGAACTCCGGCCAGAGCTGGTCAGCAGCAACATATATGAGAATCCATCTTCTATAAGAATAAACACCCGACAA',\n",
       "  'AGACCACGCCATATTTTGTTAATCATCAACATCAGAACGGCGCA',\n",
       "  'CATCAAAAATAATGTGGGAAACCAGCAGAAAGGA',\n",
       "  'CTTACCACAACGCCACGCAGAGTAATAAGTGAGGAA',\n",
       "  'TTTTTGAGGTCATTTTTGCGGTTGCTCCGATGGTTATGCGAT',\n",
       "  'TTTTTATTCATTGAAAAATCCTGCGGGCAGTGCTCACAGAGTGA',\n",
       "  'ATAATCCTTGAATACCAAGTTACAAAATGGCAATTCCAGAAGAAACAAAAGCCGCCCAAACAAATAAAT',\n",
       "  'AAGCCTTTGACCCTATACGTAATTGTACCATTTTT',\n",
       "  'TTTTTGAGTAGATTTAGTTTGTCCCAATTCTGCGAACTTTTT',\n",
       "  'GGCTACAGAGGCTTAGACTTTTTCATTTTTT',\n",
       "  'ACGTGGCGAGAAAGATGGCCCAAAGAATCTTTTCATGCTCCATGTTACTGTGTCGAATGGTCAATCATCGCCTTTTT',\n",
       "  'CAGAATGGAAAGCGCAGTCTATATTCAGCCAGCATTGACAG',\n",
       "  'TGGGAATTTGCGGTTAGTCAGATCGCGTTTTTTTT',\n",
       "  'ACCGTTAGGTGAAGAATAATAATTTTTTCACGTT',\n",
       "  'CATACATCATAAGGATGAACGGTGTACAGACCATTTTT',\n",
       "  'TTTTTAAAACATTATATTTCAGAGCTAAGTTGTAGCGCTCATTCTGACCTGAAAG',\n",
       "  'TTTTTTAATTCGAGCTTCAAATTCAAATAAGCAAAGCGGATTGCATCAAAAAGATTTT',\n",
       "  'CTTCTGGTGCCGGGCGATCGAACAATATAAAGTACGGAATC',\n",
       "  'TTTTTTGATAAATTTAGCCGGAAAGGGTGGTTTTTAGCCCGA',\n",
       "  'AAGATTAATCTGGTGCGGTCAATTTTTTATTTAAACATTCCACATCCCTC',\n",
       "  'ATAAAGTAGCTCGAATTCGTAGCGGTGCGAACTAACATAACGCCTTTTT',\n",
       "  'ATGAACTACCCCGGTTGATAATAACATAACTGAACAATATT',\n",
       "  'TTTTTGAGGAAGTTTCCATTAAACGGGTAAAGTAATACTTACTAATGAGGTTAAAGGGATGTCCATTTTGACGGGCCAAC',\n",
       "  'TTTTTTCCCTCAGAGCCGCCACCCTCAGAGCGCAACCAGCCCACCACCGGAACCGCCTTTTT',\n",
       "  'CGACTTGGCAAGGCGAGGTGTATCCCACCAACGGCAGCACCGTCTTTTT',\n",
       "  'GGGGTCAGTGTGTACTGAACAGCGAGCAGTTGTCTGAG',\n",
       "  'TTGGCAGTTTTATAATATTCGTGCAGGGAGTTAA',\n",
       "  'TCAAGAGAAGGATTAGGAGGGCAAAGCGCCATTCGCCATA',\n",
       "  'CCTCATAGTTCCTGTAGTTGTAAA',\n",
       "  'TTTTTGGTGGTGCCCCAGCATTCCTTTGATATCAAAATTATTTGAATAT',\n",
       "  'TTTTTAAAAGGAATTACGAGGGCAGATACGGAACAGTAACAACACCACG',\n",
       "  'GCGAACCAAGGTTAAATACCGAGAGAGAATCAGAAAAGCCCCTTTAAC',\n",
       "  'TTTTTGGCGCATAGGCTAATCAACACATTATGTTACCTTTACACTTTGAGGG',\n",
       "  'ATCCCCCCGGAATCGTCATAAATTTTTT',\n",
       "  'ATTAATTGATGCTGCGTCTCGTCGCTG',\n",
       "  'ATAAATTATTCAACCGTTAGGTGAAGAATAATAATTTTTTCACGTT',\n",
       "  'CGGCCATTTGTGACCTTTAGCATAGCGCAGTACAGTTATTAACGGCTG',\n",
       "  'CGGTTTAGAAAATCTCCAAAAGAGTCTGGAGCAAACAAGAGGTGGT',\n",
       "  'AAGATTAATCTGGTGCGGTCAATTTTTTATTTAAACAT',\n",
       "  'ACCGCCGACAGCCCTCATAGTTCCTGTAGTTGTAAA',\n",
       "  'CCTTTACAAGAACCCAAACGGGGACGACGCCAGC',\n",
       "  'ATTGCGTTGCGCTCGCCAGCTGGCTTGATTTTGATAATTTTT',\n",
       "  'CATCAAAAATAATGTGGGAAACCAGCAGAAAGGA',\n",
       "  'CTTACCACAACGCCACGCAGAGTAATAAGTGAGGAA',\n",
       "  'TTTTTGAGGTCATTTTTGCGGTTGCTCCGATGGTTATGCGAT',\n",
       "  'ATAATCCTTGAATACCAAGTTACAAAATGGCAATTCCAGAAGAAACAAAAGCCGCCCAAACAAATAAAT',\n",
       "  'TGAAAAATCCTGCGGGCAGTGCTCACAGAGTGA',\n",
       "  'CAGAATGGAAAGCGCAGTCTATATTCAGCCAGCATTGACAG',\n",
       "  'AAATGTTTAGTTTGCCAGAGGGGGTACTTTTG',\n",
       "  'TGGGAATTTGCGGTTAGTCAGATCGCGTTTTTTTT',\n",
       "  'GGCTACAGAGGCTTAGACTTTTTCATTTTAAC',\n",
       "  'GTTTCCATTAAACGGGTAAAGTAATACTTACTAATGAGGTTAAAGGGATGTCCATTTTGACGGGCCAAC',\n",
       "  'ATTGAGGTCCCGACATAGCAAGTTTATCGTGCGGGTCCCAGTCACGAC',\n",
       "  'CATACATCATAAGGATGAACGGTGTACAGACCATTTTT',\n",
       "  'GGGGTACTTTTGCGGGATACGAGGGTAGCAACGGTACGCAGGCCAC',\n",
       "  'TTTTTTAATTCGAGCTTCAAATTCAAATAAGCAAAGCGGATTGCATCAAAAAGATTTT',\n",
       "  'GCGTTTGCACCGCTTCTGGTGCCGGGCGATCGAACAATATAAAGTACGGAATC',\n",
       "  'AGACCACGCCATATTTTGTTAATCATCAACAT',\n",
       "  'AAGCCTTTGACCCTATACGTAATT',\n",
       "  'TTTTTTGTTAGAGCTGCGCGTGTGCTTTAGAACCCCAAATCACCATCA',\n",
       "  'ATGAACTACCCCGGTTGATAATAACATAACTGAACAATATT',\n",
       "  'CCTCATTGATAAATTTAGCCGGAAAGGGTGGTTTTTAGCCCGA',\n",
       "  'ACGTGGCGAGAAAGATGGCCCAAAGAATCTTTTCATGCTCCATGTTACTGTGTCGAATGGTCAATCATCGCCTAAAGC',\n",
       "  'GCCCCAGCATTCCTTTGATATCAAAATTATTTGAATAT',\n",
       "  'TCAAGAGAAGGATTAGGAGGGCAAAGCGCCATTCGCCATAGGCTGAAAAAGG',\n",
       "  'GCAGCCGAGTAGATTTAGTTTGTCCCAATTCT',\n",
       "  'GGGGTCAGTGTGTACTGAACAGCGAGCAGTTGTCTGAG',\n",
       "  'TTGGCAGTTTTATAATATTCGTGCAGGGAGTTAA',\n",
       "  'AGAGCCGCCACCCTCAGAGCGCAACCAGCCCACCACCGGA',\n",
       "  'TTTTTAAAAGGAATTACGAGGGCAGATACGGAACAGTAACAACACCACG',\n",
       "  'TTATATTTCAGAGCTAAGTTGTAGCGCTCATTCTGACCTGAAAG',\n",
       "  'CGACTTGGCAAGGCGAGGTGTATCCCACCAACGGCAGCACCGTCGAATCG',\n",
       "  'ATCCCCCCGGAATCGTC',\n",
       "  'GCGAACCAAGGTTAAATACCGAGAGAGAATCAGAAAAGCCCCTTTAAC',\n",
       "  'TTTTTGGCGCATAGGCTAATCAACACATTATGTTACCTTTACACTTTGAGGG',\n",
       "  'ATAAAGTAGCTCGAATTCGTAGCGGTGCGAACTAACATAACGCCTTTTT',\n",
       "  'ATTAATTGATGCTGCGTCTCGTCGCTG',\n",
       "  'CAGAGCTGGTCAGCAGCAACATATATGAGAATCCATCTTCTATAAGAATAAACACCCGACAA',\n",
       "  'TTTTTGAACGCCATCAAAAATAATGTGGGAAACCAGCAGAAAGGA',\n",
       "  'TTTTTCGCCATATTTTGTTAATCATCAACATCAGAACTTTTT',\n",
       "  'CGGGATACGAGGGTAGCAACGGTACGCAGGCCAC',\n",
       "  'CTTACCACAACGCCACGCAGAGTA',\n",
       "  'AAGATTAATCTGGTGCGGTCAATTTTTTATTTAAACAT',\n",
       "  'TAGGCTAATCAACACATTATGTTACCTTTACACTTTGAGGG',\n",
       "  'GTACCAAAACGACGGCCATTTGTGACCTTTAGCATAGCGCAGTACAGTTATTAACGGCTG',\n",
       "  'CATACATCATAAGGATGAACGGTGTAC',\n",
       "  'ATAAAGTAGCTCGAATTCGTAGCGGTGCGAACTAACATAACGCCGACTCC',\n",
       "  'AAATGTTTAGTTTGCCAGAG',\n",
       "  'TGGGAATTTGCGGTTAGTCAGATC',\n",
       "  'GGCTGAAAAAGGAATTACGAGGGCAGATACGGAACAGTAACAACACCACG',\n",
       "  'GCGAACCAAGGTTAAATACCGAGAGAGAATCAGAAAAGCCCCTTTAACCAATAGTTTTT',\n",
       "  'TGAAAAATCCTGCGGGCAGTGCTCACAGAGTGA',\n",
       "  'GTTGTAAAAACATTATATTTCAGAGCTAAGTTGTAGCGCTCATTCTGACCTGAAAG',\n",
       "  'TTTCATTTTAACGGGGTCAGTGTGTACTGAACAGCGAGCAGTTGTCTGAG',\n",
       "  'GGCTACAGAGGCTTAGACTTTTTCATTTTAAC',\n",
       "  'GTTTCCATTAAACGGGTAAAGTAATACTTACTAATGAGGTTAAAGGGATGTCCATTTTGACGGGCCAAC',\n",
       "  'ACCGTTAGGTGAAGAATAATAATTTTTTCACGTT',\n",
       "  'ATTGAGGTCCCGACATAGCAAGTTTATCGTGCGGGTCCCAGTCACGAC',\n",
       "  'CGGTTTAGAAAATCTCCAAAAGAGTCTGGAGCAA',\n",
       "  'ATCGCCTAAAGCCAGAATGGAAAGCGCAGTCTATATTCAGCCAGCATTGACAG',\n",
       "  'ATTGCGTTGCGCTCGCCAGCTGGCTTGATTT',\n",
       "  'AAGCCTTTGACCCTATACGTAATT',\n",
       "  'TTTTTTGTTAGAGCTGCGCGTGTGCTTTAGAACCCCAAATCACCATCA',\n",
       "  'ATGAACTACCCCGGTTGATAATAACATAACTGAACAATATT',\n",
       "  'ACGTGGCGAGAAAGATGGCCCAAAGAATCTTTTCATGCTCCATGTTACTGTGTCGAATGGTCAATCATCGCCTAAAGC',\n",
       "  'GCCCCAGCATTCCTTTGATATCAAAATTATTTGAATAT',\n",
       "  'GAGCTTCAAATTCAAATAAGCAAAGCGGATTGCATCAAAAAGATTTT',\n",
       "  'ATAATCCTTGAATACCAAGTTACAAAATGGCAATTCCAGAAGAAACAAAAGCCGCCCAAACAAATAAATCCTCATTGATAA',\n",
       "  'CGACTTGGCAAGGCGAGGTGTATCCCACCAACGGCAGC',\n",
       "  'GCAGCCGAGTAGATTTAGTTTGTCCCAATTCT',\n",
       "  'AGAGCCGCCACCCTCAGAGCGCAACCAGCCCACCACCGGA',\n",
       "  'TTGGCAGTTTTATAATATTCGTGCAGGGAGTTAA',\n",
       "  'CCTCATAGTTCCTGTAGTTGTAAA',\n",
       "  'TTTTTGCACCGCTTCTGGTGCCGGGCGATCGAACAATATAAAGTACGGAATC',\n",
       "  'ATCCCCCCGGAATCGTC',\n",
       "  'TTTTTGACTCCTCAAGAGAAGGATTAGGAGGGCAAAGCGCCATTCGCCATAGGCTGATTTTT',\n",
       "  'ATTTTTGCGGTTGCTCCGATGGTTATGCGAT',\n",
       "  'CCTTTACAAGAACCCAAACGGGGACGACGCCAGCTTTCCGTTTTT',\n",
       "  'ATTAATTGATGCTGCGTCTCGTCGCTG',\n",
       "  'ATTTAGCCGGAAAGGGTGGTTTTTAGCCCGA',\n",
       "  'CAGAGCTGGTCAGCAGCAACATATATGAGAATCCATCTTCTATAAGAATAAACACCCGACAA',\n",
       "  'TTGGCAGTTTTATAATATTCGTGCAGGGAGTTAAAGGCCGTTTTT',\n",
       "  'TTTTTGAACGCCATCAAAAATAATGTGGGAAACCAGCAGAAAGGA',\n",
       "  'TTTTTCGCCATATTTTGTTAATCATCAACATCAGAACTTTTT',\n",
       "  'AGGCCGATAGTAAAATGTTTAGTTTGCCAGAG',\n",
       "  'CGGTTTAGAAAATCTCCAAAAGAGTCTGGAGCAAACAAGATTTTT',\n",
       "  'CTTACCACAACGCCACGCAGAGTAATAAGTTTTTT',\n",
       "  'TAGGCTAATCAACACATTATGTTACCTTTACACTTTGAGGG',\n",
       "  'TTTTTTCCGGCCAGAGCTGGTCAGCAGCAACATATATGAGAATCCATCTTCTATAAGAATAAACACCCGACAA',\n",
       "  'CATACATCATAAGGATGAACGGTGTAC',\n",
       "  'AAGATTAATCTGGTGCGGTCAATTTTTTATTTAAACATTCCACATTTTT',\n",
       "  'TTTTTTAAAGCCAGAATGGAAAGCGCAGTCTATATTCAGCCAGCATTGACAG',\n",
       "  'TGGGAATTTGCGGTTAGTCAGATC',\n",
       "  'ACGTGGCGAGAAAGATGGCCCAAAGAATCTTTTCATGCTCCATGTTACTGTGTCGAATGGTCAATC',\n",
       "  'CAATAGGAGGTCATTTTTGCGGTTGCTCCGATGGTTATGCGAT',\n",
       "  'TTTTTTGTTAGAGCTGCGCGTGTGCTTTAGAACCCCAAATCACCATCAATATGATTTTT',\n",
       "  'TTTTTGACAGCCCTCATAGTTCCTGTAGTTGTAAA',\n",
       "  'ATAAAGTAGCTCGAATTCGTAGCGGTGCGAACTAACAT',\n",
       "  'GCGAACCAAGGTTAAATACCGAGAGAGAATCAGAAAAGCCCCTTTAACCAATAGTTTTT',\n",
       "  'TGAAAAATCCTGCGGGCAGTGCTCACAGAGTGA',\n",
       "  'GTTGTAAAAACATTATATTTCAGAGCTAAGTTGTAGCGCTCATTCTGACCTGAAAG',\n",
       "  'TTTTTGAATCGATGAACTACCCCGGTTGATAATAACATAACTGAACAATATT',\n",
       "  'TTTTTTATTCAACCGTTAGGTGAAGAATAATAATTTTTTCACGTT',\n",
       "  'GGCTACAGAGGCTTAGACTT',\n",
       "  'ATTGAGGTCCCGACATAGCAAGTTTATCGTGCGGGTCCCAGTCACGACGTTGTATTTTT',\n",
       "  'TTTTTCTTTTGCGGGATACGAGGGTAGCAACGGTACGCAGGCCAC',\n",
       "  'TCCACATCCCTCAGAGCCGCCACCCTCAGAGCGCAACCAGCCCACCACCGGAACCGCCGACAGC',\n",
       "  'ATTAATTGATGCTGCGTCTCGTCGCTGGCAGCCTTTTT',\n",
       "  'TTTTTTTTAACGGGGTCAGTGTGTACTGAACAGCGAGCAGTTGTCTGAG',\n",
       "  'ATTGCGTTGCGCTCGCCAGCTGGCTTGATTT',\n",
       "  'AAGCCTTTGACCCTATACGTAATT',\n",
       "  'GCCCCAGCATTCCTTTGATATCAAAATTATTTGAATAT',\n",
       "  'GAGCTTCAAATTCAAATAAGCAAAGCGGATTGCATCAAAAAGATTTT',\n",
       "  'GCAGCCGAGTAGATTTAGTTTGTCCCAATTCTGCGAACTCCGGC',\n",
       "  'CGACTTGGCAAGGCGAGGTGTATCCCACCAACGGCAGC',\n",
       "  'TTTTTAAACGACGGCCATTTGTGACCTTTAGCATAGCGCAGTACAGTTATTAACGGCTG',\n",
       "  'TTTTTGCACCGCTTCTGGTGCCGGGCGATCGAACAATATAAAGTACGGAATC',\n",
       "  'ATCCCCCCGGAATCGTC',\n",
       "  'ATAATCCTTGAATACCAAGTTACAAAATGGCAATTCCAGAAGAAACAAAAGCCGCCCAAACAAATAAATCCTCATTTTTT',\n",
       "  'TTTTTGACTCCTCAAGAGAAGGATTAGGAGGGCAAAGCGCCATTCGCCATAGGCTGATTTTT',\n",
       "  'CCTTTACAAGAACCCAAACGGGGACGACGCCAGCTTTCCGTTTTT',\n",
       "  'AATTACGAGGGCAGATACGGAACAGTAACAACACCACG',\n",
       "  'ATTTAGCCGGAAAGGGTGGTTTTTAGCCCGA',\n",
       "  'ATAAGTGAGGAAGTTTCCATTAAACGGGTAAAGTAATACTTACTAATGAGGTTAAAGGGATGTCCATTTTGACGGGCCAAC',\n",
       "  'TTGGCAGTTTTATAATATTCGTGCAGGGAGTTAAAGGCCGTTTTT',\n",
       "  'AGGCCGATAGTAAAATGTTTAGTTTGCCAGAG',\n",
       "  'CGGCCATTTGTGACCTTTAGCATAGCGCAGTACAGTTATTAACGGCTG',\n",
       "  'CTTACCACAACGCCACGCAGAGTA',\n",
       "  'CGGTTTAGAAAATCTCCAAAAGAGTCTGGAGCAAACAAGATTTTT',\n",
       "  'AAGATTAATCTGGTGCGGTCAATTTTTTATTTAAACATTCCACATTTTT',\n",
       "  'ATTGCGTTGCGCTCGCCAGCTGGCTTGATTTTGATAATTTTT',\n",
       "  'CATCAAAAATAATGTGGGAAACCAGCAGAAAGGA',\n",
       "  'TTTTTGAGGTCATTTTTGCGGTTGCTCCGATGGTTATGCGAT',\n",
       "  'TTTTTTGTTAGAGCTGCGCGTGTGCTTTAGAACCCCAAATCACCATCAATATGATTTTT',\n",
       "  'TTTTTGACAGCCCTCATAGTTCCTGTAGTTGTAAA',\n",
       "  'ATAATCCTTGAATACCAAGTTACAAAATGGCAATTCCAGAAGAAACAAAAGCCGCCCAAACAAATAAAT',\n",
       "  'AAGCCTTTGACCCTATACGTAATTGTACCATTTTT',\n",
       "  'TTTTTGAGTAGATTTAGTTTGTCCCAATTCTGCGAACTTTTT',\n",
       "  'GGCTACAGAGGCTTAGACTTTTTCATTTTTT',\n",
       "  'ACGTGGCGAGAAAGATGGCCCAAAGAATCTTTTCATGCTCCATGTTACTGTGTCGAATGGTCAATCATCGCCTTTTT',\n",
       "  'CCTTTACAAGAACCCAAACGGGGACGACGCCAGCTTTCCGTAATTC',\n",
       "  'CAGAATGGAAAGCGCAGTCTATATTCAGCCAGCATTGACAG',\n",
       "  'TGAAAAATCCTGCGGGCAGTGCTCACAGAGTGA',\n",
       "  'ATTGAGGTCCCGACATAGCAAGTTTATCGTGCGGGTCCCAGTCACGAC',\n",
       "  'TTTTTGAATCGATGAACTACCCCGGTTGATAATAACATAACTGAACAATATT',\n",
       "  'TTTTTTATTCAACCGTTAGGTGAAGAATAATAATTTTTTCACGTT',\n",
       "  'TGGGAATTTGCGGTTAGTCAGATCGCGTTTTTTTT',\n",
       "  'TTTTTCTTTTGCGGGATACGAGGGTAGCAACGGTACGCAGGCCAC',\n",
       "  'CATACATCATAAGGATGAACGGTGTACAGACCATTTTT',\n",
       "  'TTTTTAAAACATTATATTTCAGAGCTAAGTTGTAGCGCTCATTCTGACCTGAAAG',\n",
       "  'TTTTTTAATTCGAGCTTCAAATTCAAATAAGCAAAGCGGATTGCATCAAAAAGATTTT',\n",
       "  'GCGTTTGCACCGCTTCTGGTGCCGGGCGATCGAACAATATAAAGTACGGAATC',\n",
       "  'TTTTTTGATAAATTTAGCCGGAAAGGGTGGTTTTTAGCCCGA',\n",
       "  'AGACCACGCCATATTTTGTTAATCATCAACAT',\n",
       "  'GCCCCAGCATTCCTTTGATATCAAAATTATTTGAATAT',\n",
       "  'TTTTTGAGGAAGTTTCCATTAAACGGGTAAAGTAATACTTACTAATGAGGTTAAAGGGATGTCCATTTTGACGGGCCAAC',\n",
       "  'CGACTTGGCAAGGCGAGGTGTATCCCACCAACGGCAGC',\n",
       "  'GGGGTCAGTGTGTACTGAACAGCGAGCAGTTGTCTGAG',\n",
       "  'TCAAGAGAAGGATTAGGAGGGCAAAGCGCCATTCGCCATA',\n",
       "  'AGAGCCGCCACCCTCAGAGCGCAACCAGCCCACCACCGGA',\n",
       "  'TTTTTAAAAGGAATTACGAGGGCAGATACGGAACAGTAACAACACCACG',\n",
       "  'ATCCCCCCGGAATCGTC',\n",
       "  'GCGAACCAAGGTTAAATACCGAGAGAGAATCAGAAAAGCCCCTTTAAC',\n",
       "  'TTTTTGGCGCATAGGCTAATCAACACATTATGTTACCTTTACACTTTGAGGG',\n",
       "  'ATAAAGTAGCTCGAATTCGTAGCGGTGCGAACTAACATAACGCCTTTTT',\n",
       "  'ATTAATTGATGCTGCGTCTCGTCGCTG',\n",
       "  'CAGAGCTGGTCAGCAGCAACATATATGAGAATCCATCTTCTATAAGAATAAACACCCGACAA',\n",
       "  'TTGGCAGTTTTATAATATTCGTGCAGGGAGTTAAAGGCCGTTTTT',\n",
       "  'TTTTTGAACGCCATCAAAAATAATGTGGGAAACCAGCAGAAAGGA',\n",
       "  'TTTTTCGCCATATTTTGTTAATCATCAACATCAGAACTTTTT',\n",
       "  'AGGCCGATAGTAAAATGTTTAGTTTGCCAGAG',\n",
       "  'CGGTTTAGAAAATCTCCAAAAGAGTCTGGAGCAAACAAGATTTTT',\n",
       "  'CTTACCACAACGCCACGCAGAGTAATAAGTTTTTT',\n",
       "  'CATACATCATAAGGATGAACGGTGTAC',\n",
       "  'TTTTTTCCGGCCAGAGCTGGTCAGCAGCAACATATATGAGAATCCATCTTCTATAAGAATAAACACCCGACAA',\n",
       "  'ATTGCGTTGCGCTCGCCAGCTGGCTTGATTTTGATAAGAACGC',\n",
       "  'AAGATTAATCTGGTGCGGTCAATTTTTTATTTAAACATTCCACATTTTT',\n",
       "  'TTTTTTAAAGCCAGAATGGAAAGCGCAGTCTATATTCAGCCAGCATTGACAG',\n",
       "  'ATAAAGTAGCTCGAATTCGTAGCGGTGCGAACTAACATAACGCCGACTCC',\n",
       "  'TGGGAATTTGCGGTTAGTCAGATC',\n",
       "  'CAATAGGAGGTCATTTTTGCGGTTGCTCCGATGGTTATGCGAT',\n",
       "  'TTTTTTGTTAGAGCTGCGCGTGTGCTTTAGAACCCCAAATCACCATCAATATGATTTTT',\n",
       "  'TTTTTGACAGCCCTCATAGTTCCTGTAGTTGTAAA',\n",
       "  'GGCTGAAAAAGGAATTACGAGGGCAGATACGGAACAGTAACAACACCACG',\n",
       "  'AAGCCTTTGACCCTATACGTAATTGTACCATTTTT',\n",
       "  'TTTTTGAGTAGATTTAGTTTGTCCCAATTCTGCGAACTTTTT',\n",
       "  'GGCTACAGAGGCTTAGACTTTTTCATTTTTT',\n",
       "  'ACGTGGCGAGAAAGATGGCCCAAAGAATCTTTTCATGCTCCATGTTACTGTGTCGAATGGTCAATCATCGCCTTTTT',\n",
       "  'GCGAACCAAGGTTAAATACCGAGAGAGAATCAGAAAAGCCCCTTTAACCAATAGTTTTT',\n",
       "  'ATATGAATTCATTGAAAAATCCTGCGGGCAGTGCTCACAGAGTGA',\n",
       "  'TTTTTGAATCGATGAACTACCCCGGTTGATAATAACATAACTGAACAATATT',\n",
       "  'TTTTTTATTCAACCGTTAGGTGAAGAATAATAATTTTTTCACGTT',\n",
       "  'ATTGAGGTCCCGACATAGCAAGTTTATCGTGCGGGTCCCAGTCACGACGTTGTATTTTT',\n",
       "  'TTTTTCTTTTGCGGGATACGAGGGTAGCAACGGTACGCAGGCCAC',\n",
       "  'TTTTTAAAACATTATATTTCAGAGCTAAGTTGTAGCGCTCATTCTGACCTGAAAG',\n",
       "  'ATTAATTGATGCTGCGTCTCGTCGCTGGCAGCCTTTTT',\n",
       "  'TCCACATCCCTCAGAGCCGCCACCCTCAGAGCGCAACCAGCCCACCACCGGA',\n",
       "  'TTTTTTTTAACGGGGTCAGTGTGTACTGAACAGCGAGCAGTTGTCTGAG',\n",
       "  'TTTTTTGATAAATTTAGCCGGAAAGGGTGGTTTTTAGCCCGA',\n",
       "  'GCCCCAGCATTCCTTTGATATCAAAATTATTTGAATAT',\n",
       "  'TTTTTGAGGAAGTTTCCATTAAACGGGTAAAGTAATACTTACTAATGAGGTTAAAGGGATGTCCATTTTGACGGGCCAAC',\n",
       "  'GAGCTTCAAATTCAAATAAGCAAAGCGGATTGCATCAAAAAGATTTT',\n",
       "  'TTTTTAAACGACGGCCATTTGTGACCTTTAGCATAGCGCAGTACAGTTATTAACGGCTG',\n",
       "  'CGACTTGGCAAGGCGAGGTGTATCCCACCAACGGCAGCACCGTCGAATCG',\n",
       "  'TTTTTGCACCGCTTCTGGTGCCGGGCGATCGAACAATATAAAGTACGGAATC',\n",
       "  'ATCCCCCCGGAATCGTC',\n",
       "  'ATAATCCTTGAATACCAAGTTACAAAATGGCAATTCCAGAAGAAACAAAAGCCGCCCAAACAAATAAATCCTCATTTTTT',\n",
       "  'TTTTTGACTCCTCAAGAGAAGGATTAGGAGGGCAAAGCGCCATTCGCCATAGGCTGATTTTT',\n",
       "  'CCTTTACAAGAACCCAAACGGGGACGACGCCAGCTTTCCGTTTTT',\n",
       "  'CAGAACGGCGCATAGGCTAATCAACACATTATGTTACCTTTACACTTTGAGGG'],\n",
       " 344)"
      ]
     },
     "execution_count": 102,
     "metadata": {},
     "output_type": "execute_result"
    }
   ],
   "source": [
    "octamer_array, len(octamer_array)"
   ]
  },
  {
   "cell_type": "code",
   "execution_count": 104,
   "id": "cad8d850",
   "metadata": {},
   "outputs": [],
   "source": [
    "octamer_df = pd.DataFrame(octamer_array, columns=[\"Sequence\"])\n",
    "octamer_df.to_csv(\"octamer_raw_picklist.csv\", index=None)"
   ]
  },
  {
   "cell_type": "code",
   "execution_count": 117,
   "id": "5411bc67",
   "metadata": {},
   "outputs": [],
   "source": [
    "OWL_M2 = {\"S3\": [\"H46_L_P\", \"H46_R_S\", \"H47_L_S\", \"H47_R_P\", \"H42_L_S\", \"H42_R_S\", \"H43_L_S\", \"H43_R_S\"],\n",
    "        \"S4\": [\"H40_L_S\", \"H40_R_P\", \"H39_L_P\", \"H39_R_S\", \"H36_L_P\", \"H36_R_P\", \"H35_L_S\", \"H35_R_P\"]}"
   ]
  },
  {
   "cell_type": "code",
   "execution_count": 118,
   "id": "cb89a47b",
   "metadata": {},
   "outputs": [],
   "source": [
    "OWL_M2_seqs = sequence_generator(OWL_M2)\n"
   ]
  },
  {
   "cell_type": "code",
   "execution_count": 121,
   "id": "976ef2a8",
   "metadata": {},
   "outputs": [
    {
     "data": {
      "text/plain": [
       "(['TTGGCAGTTTTATAATATTCGTGCAGGGAGTTAAAGGCCGTTTTT',\n",
       "  'CGGCCATTTGTGACCTTTAGCATAGCGCAGTACAGTTATTAACGGCTG',\n",
       "  'CGGTTTAGAAAATCTCCAAAAGAGTCTGGAGCAAACAAGATTTTT',\n",
       "  'ATTAATTGATGCTGCGTCTCGTCGCTGGCAGCCGAGTAG',\n",
       "  'TTTTTATAGTAAAATGTTTAGTTTGCCAGAGGGGGTATTTTT',\n",
       "  'ATTGAGGTCCCGACATAGCAAGTTTATCGTGCGGGTCCCAGTCACGACGTTGTAAAAACA',\n",
       "  'CCTTTACAAGAACCCAAACGGGGACGACGCCAGC',\n",
       "  'AAGATTAATCTGGTGCGGTCAATTTTTTATTTAAACATTCCACATTTTT',\n",
       "  'ATTGCGTTGCGCTCGCCAGCTGGCTTGATTTTGATAATTTTT',\n",
       "  'GCGAACTCCGGCCAGAGCTGGTCAGCAGCAACATATATGAGAATCCATCTTCTATAAGAATAAACACCCGACAA',\n",
       "  'CATCAAAAATAATGTGGGAAACCAGCAGAAAGGA',\n",
       "  'CTTACCACAACGCCACGCAGAGTAATAAGTGAGGAA',\n",
       "  'TTTTTGAGGTCATTTTTGCGGTTGCTCCGATGGTTATGCGAT',\n",
       "  'TTTTTTGTTAGAGCTGCGCGTGTGCTTTAGAACCCCAAATCACCATCAATATGATTTTT',\n",
       "  'TTTTTGACAGCCCTCATAGTTCCTGTAGTTGTAAA',\n",
       "  'TTTTTATTCATTGAAAAATCCTGCGGGCAGTGCTCACAGAGTGA',\n",
       "  'ATAATCCTTGAATACCAAGTTACAAAATGGCAATTCCAGAAGAAACAAAAGCCGCCCAAACAAATAAAT',\n",
       "  'AAGCCTTTGACCCTATACGTAATTGTACCATTTTT',\n",
       "  'TTTTTGAGTAGATTTAGTTTGTCCCAATTCTGCGAACTTTTT',\n",
       "  'GGCTACAGAGGCTTAGACTTTTTCATTTTTT',\n",
       "  'ACGTGGCGAGAAAGATGGCCCAAAGAATCTTTTCATGCTCCATGTTACTGTGTCGAATGGTCAATCATCGCCTTTTT',\n",
       "  'TGGGAATTTGCGGTTAGTCAGATCGCGTTTTTTTT',\n",
       "  'TTTTTGAATCGATGAACTACCCCGGTTGATAATAACATAACTGAACAATATT',\n",
       "  'TTTTTTATTCAACCGTTAGGTGAAGAATAATAATTTTTTCACGTT',\n",
       "  'TTTTTCTTTTGCGGGATACGAGGGTAGCAACGGTACGCAGGCCAC',\n",
       "  'CATACATCATAAGGATGAACGGTGTACAGACCATTTTT',\n",
       "  'TTTTTAAAACATTATATTTCAGAGCTAAGTTGTAGCGCTCATTCTGACCTGAAAG',\n",
       "  'ATCGCCTAAAGCCAGAATGGAAAGCGCAGTCTATATTCAGCCAGCATTGACAG',\n",
       "  'TTTTTTAATTCGAGCTTCAAATTCAAATAAGCAAAGCGGATTGCATCAAAAAGATTTT',\n",
       "  'CTTCTGGTGCCGGGCGATCGAACAATATAAAGTACGGAATC',\n",
       "  'GCGAACCAAGGTTAAATACCGAGAGAGAATCAGAAAAGCCCCTTTAACCAATAGGAGGTC',\n",
       "  'TTTTTTGATAAATTTAGCCGGAAAGGGTGGTTTTTAGCCCGA',\n",
       "  'ATAAAGTAGCTCGAATTCGTAGCGGTGCGAACTAACATAACGCCTTTTT',\n",
       "  'TTTTTGAGGAAGTTTCCATTAAACGGGTAAAGTAATACTTACTAATGAGGTTAAAGGGATGTCCATTTTGACGGGCCAAC',\n",
       "  'TTTTTTCCCTCAGAGCCGCCACCCTCAGAGCGCAACCAGCCCACCACCGGAACCGCCTTTTT',\n",
       "  'CGACTTGGCAAGGCGAGGTGTATCCCACCAACGGCAGCACCGTCTTTTT',\n",
       "  'GGGGTCAGTGTGTACTGAACAGCGAGCAGTTGTCTGAG',\n",
       "  'TCAAGAGAAGGATTAGGAGGGCAAAGCGCCATTCGCCATA',\n",
       "  'ATTTTGTTAATCATCAACATCAGAACGGCGCA',\n",
       "  'TTTTTGGTGGTGCCCCAGCATTCCTTTGATATCAAAATTATTTGAATAT',\n",
       "  'TTTTTAAAAGGAATTACGAGGGCAGATACGGAACAGTAACAACACCACG',\n",
       "  'TTTTTGGCGCATAGGCTAATCAACACATTATGTTACCTTTACACTTTGAGGG',\n",
       "  'ATCCCCCCGGAATCGTCATAAATTTTTT'],\n",
       " 43)"
      ]
     },
     "execution_count": 121,
     "metadata": {},
     "output_type": "execute_result"
    }
   ],
   "source": [
    "OWL_M2_seqs, len(OWL_M2_seqs)"
   ]
  },
  {
   "cell_type": "code",
   "execution_count": 124,
   "id": "6fec16dd",
   "metadata": {},
   "outputs": [],
   "source": [
    "### CONFIRM THAT THE CODE OUTPUTS THE CORRECT SEQUENCES\n",
    "\n",
    "raw_csv = pd.read_csv(\"owl_m2_sequences.csv\")\n",
    "\n",
    "for seq in OWL_M2_seqs:\n",
    "    if seq not in raw_csv[\"Sequence\"].tolist():\n",
    "        print(f\"{seq} is not present in the original file!\")"
   ]
  },
  {
   "cell_type": "code",
   "execution_count": 376,
   "id": "a11da054",
   "metadata": {},
   "outputs": [],
   "source": [
    "### Making Weak Trimers\n",
    "\n",
    "S14 = generate_sides(\"S14\", count=1, number=2, overlap=0.5, weak_strength_min=51.0)\n",
    "S25 = generate_sides(\"S25\", count=1, number=2, overlap=0.5, weak_strength_min=51.0)\n",
    "S36 = generate_sides(\"S36\", count=1, number=2, overlap=0.5, weak_strength_min=51.0)\n"
   ]
  },
  {
   "cell_type": "code",
   "execution_count": 377,
   "id": "3dd94020",
   "metadata": {},
   "outputs": [
    {
     "data": {
      "text/plain": [
       "([(['H61_R_P', 'H60_L_P', 'H57_L_S', 'H57_R_S'], 51.9)],\n",
       " [(['H53_L_P', 'H54_L_P', 'H50_L_P', 'H50_R_P'], 51.4)],\n",
       " [(['H43_R_S', 'H42_L_P', 'H47_R_P', 'H46_R_S'], 51.4)])"
      ]
     },
     "execution_count": 377,
     "metadata": {},
     "output_type": "execute_result"
    }
   ],
   "source": [
    "S14, S25, S36"
   ]
  },
  {
   "cell_type": "code",
   "execution_count": 378,
   "id": "1131186f",
   "metadata": {},
   "outputs": [],
   "source": [
    "M1 = {\"S2\": S25[0][0], \"S3\": S36[0][0]}\n",
    "M2 = {\"S5\": complement_side(S25[0][0]), \"S4\": complement_side(S14[0][0])}\n",
    "M3 = {\"S1\": S14[0][0], \"S6\": complement_side(S36[0][0])}"
   ]
  },
  {
   "cell_type": "code",
   "execution_count": 379,
   "id": "9776417f",
   "metadata": {},
   "outputs": [],
   "source": [
    "TM1_seqs = sequence_generator(M1)\n",
    "TM2_seqs = sequence_generator(M2)\n",
    "TM3_seqs = sequence_generator(M3)"
   ]
  },
  {
   "cell_type": "code",
   "execution_count": 380,
   "id": "cb020ecc",
   "metadata": {},
   "outputs": [],
   "source": [
    "pd.DataFrame(TM1_seqs, columns=[\"Sequence\"]).to_csv(\"~/Desktop/hexoland/trimer-weak/trimer_M1.csv\", index=None)\n",
    "pd.DataFrame(TM2_seqs, columns=[\"Sequence\"]).to_csv(\"~/Desktop/hexoland/trimer-weak/trimer_M2.csv\", index=None)\n",
    "pd.DataFrame(TM3_seqs, columns=[\"Sequence\"]).to_csv(\"~/Desktop/hexoland/trimer-weak/trimer_M3.csv\", index=None)"
   ]
  },
  {
   "cell_type": "code",
   "execution_count": 384,
   "id": "680da217",
   "metadata": {},
   "outputs": [
    {
     "data": {
      "text/plain": [
       "([(['H54_L_P', 'H54_R_P', 'H50_L_S', 'H49_L_P'], 50.4)],\n",
       " [(['H43_R_P', 'H42_L_S', 'H46_R_S', 'H47_R_S'], 49.8),\n",
       "  (['H42_R_P', 'H43_R_S', 'H47_R_P', 'H46_R_P'], 49.900000000000006)])"
      ]
     },
     "execution_count": 384,
     "metadata": {},
     "output_type": "execute_result"
    }
   ],
   "source": [
    "### Making OWL Tetramers\n",
    "\n",
    "S25 = generate_sides(\"S25\", count=1, number=2, overlap=0.5)\n",
    "S36 = generate_sides(\"S36\", count=2, number=2, overlap=0.5)\n",
    "S25, S36\n"
   ]
  },
  {
   "cell_type": "code",
   "execution_count": 388,
   "id": "36d43ea4",
   "metadata": {},
   "outputs": [
    {
     "data": {
      "text/plain": [
       "[(['H60_L_S',\n",
       "   'H60_R_S',\n",
       "   'H61_L_P',\n",
       "   'H61_R_P',\n",
       "   'H56_L_P',\n",
       "   'H56_R_S',\n",
       "   'H57_L_S',\n",
       "   'H57_R_P'],\n",
       "  97.2),\n",
       " (['H60_L_P',\n",
       "   'H60_R_P',\n",
       "   'H61_L_S',\n",
       "   'H61_R_S',\n",
       "   'H56_L_P',\n",
       "   'H56_R_P',\n",
       "   'H57_L_S',\n",
       "   'H57_R_S'],\n",
       "  95.7)]"
      ]
     },
     "execution_count": 388,
     "metadata": {},
     "output_type": "execute_result"
    }
   ],
   "source": [
    "### STRONG SIDES\n",
    "S14_FULLs = generate_sides(\"S14\", mode=\"full\", count=2, number=4, overlap=0.25)\n",
    "S14_FULLs"
   ]
  },
  {
   "cell_type": "code",
   "execution_count": 389,
   "id": "0fb202a5",
   "metadata": {},
   "outputs": [],
   "source": [
    "M1 = {\"S1\": S14_FULLs[0][0], \"S2\": S25[0][0], \"S3\": S36[0][0]}\n",
    "M2 = {\"S3\": S36[1][0], \"S4\": complement_side(S14_FULLs[0][0])}\n",
    "M3 = {\"S1\": S14_FULLs[1][0], \"S6\": complement_side(S36[0][0])}\n",
    "M4 = {\"S4\": complement_side(S14_FULLs[1][0]), \"S5\": complement_side(S25[0][0]), \"S6\": complement_side(S36[1][0])}"
   ]
  },
  {
   "cell_type": "code",
   "execution_count": 390,
   "id": "b6ab9649",
   "metadata": {},
   "outputs": [],
   "source": [
    "M1_seqs = sequence_generator(M1)\n",
    "M2_seqs = sequence_generator(M2)\n",
    "M3_seqs = sequence_generator(M3)\n",
    "M4_seqs = sequence_generator(M4)"
   ]
  },
  {
   "cell_type": "code",
   "execution_count": 391,
   "id": "646c1929",
   "metadata": {},
   "outputs": [],
   "source": [
    "pd.DataFrame(M1_seqs, columns=[\"Sequence\"]).to_csv(\"~/Desktop/hexoland/owl-tetramer/tetramer_M1.csv\", index=None)\n",
    "pd.DataFrame(M2_seqs, columns=[\"Sequence\"]).to_csv(\"~/Desktop/hexoland/owl-tetramer/tetramer_M2.csv\", index=None)\n",
    "pd.DataFrame(M3_seqs, columns=[\"Sequence\"]).to_csv(\"~/Desktop/hexoland/owl-tetramer/tetramer_M3.csv\", index=None)\n",
    "pd.DataFrame(M4_seqs, columns=[\"Sequence\"]).to_csv(\"~/Desktop/hexoland/owl-tetramer/tetramer_M4.csv\", index=None)"
   ]
  },
  {
   "cell_type": "code",
   "execution_count": 256,
   "id": "8cd3df1f",
   "metadata": {},
   "outputs": [
    {
     "data": {
      "text/plain": [
       "(['AAGCCTTTGACCCTATACGTAATTGTACCATTTTT',\n",
       "  'TTTTTGAGTAGATTTAGTTTGTCCCAATTCTGCGAACTTTTT',\n",
       "  'GGCTACAGAGGCTTAGACTTTTTCATTTTTT',\n",
       "  'TTTTTTGATAAATTTAGCCGGAAAGGGTGGTTTTTAGCCCGA',\n",
       "  'TTTTTAAAACATTATATTTCAGAGCTAAGTTGTAGCGCTCATTCTGACCTGAAAG',\n",
       "  'TTTTTGAGGAAGTTTCCATTAAACGGGTAAAGTAATACTTACTAATGAGGTTAAAGGGATGTCCATTTTGACGGGCCAAC',\n",
       "  'ACGTGGCGAGAAAGATGGCCCAAAGAATCTTTTCATGCTCCATGTTACTGTGTCGAATGGTCAATCATCGCCTTTTT'],\n",
       " ['CGGTTTAGAAAATCTCCAAAAGAGTCTGGAGCAAACAAGATTTTT',\n",
       "  'TTTTTCTTTTGCGGGATACGAGGGTAGCAACGGTACGCAGGCCAC',\n",
       "  'TTTTTTGTTAGAGCTGCGCGTGTGCTTTAGAACCCCAAATCACCATCAATATGATTTTT',\n",
       "  'TTTTTGACAGCCCTCATAGTTCCTGTAGTTGTAAA',\n",
       "  'TTTTTTATTCAACCGTTAGGTGAAGAATAATAATTTTTTCACGTT',\n",
       "  'TTGGCAGTTTTATAATATTCGTGCAGGGAGTTAAAGGCCGTTTTT',\n",
       "  'TTTTTGAATCGATGAACTACCCCGGTTGATAATAACATAACTGAACAATATT',\n",
       "  'AAGATTAATCTGGTGCGGTCAATTTTTTATTTAAACATTCCACATTTTT'],\n",
       " ['H47_R_S',\n",
       "  'H42_R_S',\n",
       "  'H43_R_P',\n",
       "  'H46_L_S_AND_H47_L_S',\n",
       "  'H42_L_S_AND_H43_L_S',\n",
       "  'H46_R_P'],\n",
       " ['H36_R_S',\n",
       "  'H35_L_P',\n",
       "  'H40_L_S',\n",
       "  'H40_R_S',\n",
       "  'H39_L_P',\n",
       "  'H39_R_S',\n",
       "  'H35_R_S',\n",
       "  'H36_L_P'])"
      ]
     },
     "execution_count": 256,
     "metadata": {},
     "output_type": "execute_result"
    }
   ],
   "source": [
    "M2_seqs[0], M2_seqs[1], M2_seqs[2], M2_seqs[3]"
   ]
  },
  {
   "cell_type": "code",
   "execution_count": 252,
   "id": "4b03633d",
   "metadata": {},
   "outputs": [
    {
     "data": {
      "text/plain": [
       "(['H42_R_S', 'H43_R_P', 'H47_L_S', 'H46_R_P'],\n",
       " ['H68_R_P', 'H67_R_S', 'H63_L_P', 'H64_R_S'])"
      ]
     },
     "execution_count": 252,
     "metadata": {},
     "output_type": "execute_result"
    }
   ],
   "source": [
    "S36[1][0], complement_side(S36[1][0])"
   ]
  },
  {
   "cell_type": "code",
   "execution_count": 404,
   "id": "9f1eb9a1",
   "metadata": {},
   "outputs": [
    {
     "data": {
      "text/plain": [
       "([(['H60_R_P', 'H61_L_S', 'H56_R_P', 'H56_L_S'], 47.2)],\n",
       " [(['H54_L_S', 'H53_R_P', 'H50_R_P', 'H49_R_P'], 47.3)],\n",
       " [(['H43_L_S', 'H42_R_S', 'H47_R_S', 'H46_L_S'], 47.7)])"
      ]
     },
     "execution_count": 404,
     "metadata": {},
     "output_type": "execute_result"
    }
   ],
   "source": [
    "### Making Weak Trimers #1\n",
    "\n",
    "S14_1 = generate_sides(\"S14\", count=1, number=2, overlap=0.5, weak_strength_min=47.0, weak_strength_max=49.0)\n",
    "S25_1 = generate_sides(\"S25\", count=1, number=2, overlap=0.5, weak_strength_min=47.0, weak_strength_max=50.0)\n",
    "S36_1 = generate_sides(\"S36\", count=1, number=2, overlap=0.5, weak_strength_min=47.0, weak_strength_max=50.0)\n",
    "S14_1, S25_1, S36_1\n"
   ]
  },
  {
   "cell_type": "code",
   "execution_count": 434,
   "id": "fcb9b3c1",
   "metadata": {},
   "outputs": [],
   "source": [
    "M1_TM = sequence_generator({\"S1\": S14_1[0][0], \"S2\": S25_1[0][0]})\n",
    "M2_TM = sequence_generator({\"S4\": complement_side(S14_1[0][0]), \"S3\": S36_1[0][0]})\n",
    "M3_TM = sequence_generator({\"S5\": complement_side(S25_1[0][0]), \"S6\": complement_side(S36_1[0][0])})\n"
   ]
  },
  {
   "cell_type": "code",
   "execution_count": 435,
   "id": "bbf95b27",
   "metadata": {},
   "outputs": [],
   "source": [
    "pd.DataFrame(M1_TM, columns=[\"Sequence\"]).to_csv(\"~/Desktop/hexoland/trimer/trimer_M1_M.csv\", index=None)\n",
    "pd.DataFrame(M2_TM, columns=[\"Sequence\"]).to_csv(\"~/Desktop/hexoland/trimer/trimer_M2_M.csv\", index=None)\n",
    "pd.DataFrame(M3_TM, columns=[\"Sequence\"]).to_csv(\"~/Desktop/hexoland/trimer/trimer_M3_M.csv\", index=None)"
   ]
  },
  {
   "cell_type": "code",
   "execution_count": 454,
   "id": "b8664ad6",
   "metadata": {},
   "outputs": [
    {
     "data": {
      "text/plain": [
       "([(['H61_L_S', 'H60_L_P', 'H57_R_S', 'H56_L_S'], 43.3)],\n",
       " [(['H53_R_P', 'H54_R_P', 'H50_R_P', 'H49_L_S'], 44.2)],\n",
       " [(['H43_L_S', 'H42_L_S', 'H46_R_P', 'H47_R_P'], 44.50000000000001)])"
      ]
     },
     "execution_count": 454,
     "metadata": {},
     "output_type": "execute_result"
    }
   ],
   "source": [
    "### Making Weak Trimers #2\n",
    "\n",
    "\n",
    "S14_2 = generate_sides(\"S14\", count=1, number=2, overlap=0.5, weak_strength_min=42.0, weak_strength_max=45.0)\n",
    "S25_2 = generate_sides(\"S25\", count=1, number=2, overlap=0.5, weak_strength_min=42.0, weak_strength_max=45.0)\n",
    "S36_2 = generate_sides(\"S36\", count=1, number=2, overlap=0.5, weak_strength_min=42.0, weak_strength_max=45.0)\n",
    "S14_2, S25_2, S36_2"
   ]
  },
  {
   "cell_type": "code",
   "execution_count": 453,
   "id": "50d06b0e",
   "metadata": {},
   "outputs": [
    {
     "data": {
      "text/plain": [
       "([(['H60_R_S', 'H60_L_P', 'H57_R_S', 'H56_L_S'], 42.2)],\n",
       " [(['H53_R_S', 'H54_R_S', 'H49_L_S', 'H50_L_S'], 43.3)],\n",
       " [(['H42_R_P', 'H43_L_S', 'H46_L_P'], 42.900000000000006)])"
      ]
     },
     "execution_count": 453,
     "metadata": {},
     "output_type": "execute_result"
    }
   ],
   "source": [
    "S14_2, S25_2, S36_2"
   ]
  },
  {
   "cell_type": "code",
   "execution_count": 431,
   "id": "8aed5ff8",
   "metadata": {},
   "outputs": [],
   "source": [
    "M1_TW = sequence_generator({\"S1\": S14_2[0][0], \"S2\": S25_2[0][0]})\n",
    "M2_TW = sequence_generator({\"S4\": complement_side(S14_2[0][0]), \"S3\": S36_2[0][0]})\n",
    "M3_TW = sequence_generator({\"S5\": complement_side(S25_2[0][0]), \"S6\": complement_side(S36_2[0][0])})\n"
   ]
  },
  {
   "cell_type": "code",
   "execution_count": 433,
   "id": "c08b42a2",
   "metadata": {},
   "outputs": [],
   "source": [
    "pd.DataFrame(M1_TW, columns=[\"Sequence\"]).to_csv(\"~/Desktop/hexoland/trimer/trimer_M1_W.csv\", index=None)\n",
    "pd.DataFrame(M2_TW, columns=[\"Sequence\"]).to_csv(\"~/Desktop/hexoland/trimer/trimer_M2_W.csv\", index=None)\n",
    "pd.DataFrame(M3_TW, columns=[\"Sequence\"]).to_csv(\"~/Desktop/hexoland/trimer/trimer_M3_W.csv\", index=None)"
   ]
  },
  {
   "cell_type": "code",
   "execution_count": 407,
   "id": "3cb1d58d",
   "metadata": {},
   "outputs": [
    {
     "data": {
      "text/plain": [
       "([(['H60_L_S', 'H61_R_P', 'H56_L_S', 'H57_R_S'], 53.50000000000001)],\n",
       " [(['H53_R_P', 'H53_L_S', 'H50_L_P', 'H50_R_S'], 52.3)],\n",
       " [(['H43_R_P', 'H42_R_P', 'H46_R_S', 'H47_R_P'], 52.5)])"
      ]
     },
     "execution_count": 407,
     "metadata": {},
     "output_type": "execute_result"
    }
   ],
   "source": [
    "### Making Weak Trimers #3\n",
    "\n",
    "\n",
    "S14_3 = generate_sides(\"S14\", count=1, number=2, overlap=0.5, weak_strength_min=51.0, weak_strength_max=55.0)\n",
    "S25_3 = generate_sides(\"S25\", count=1, number=2, overlap=0.5, weak_strength_min=51.0, weak_strength_max=55.0)\n",
    "S36_3 = generate_sides(\"S36\", count=1, number=2, overlap=0.5, weak_strength_min=51.0, weak_strength_max=55.0)\n",
    "S14_3, S25_3, S36_3"
   ]
  },
  {
   "cell_type": "code",
   "execution_count": 436,
   "id": "b060d560",
   "metadata": {},
   "outputs": [],
   "source": [
    "M1_TS = sequence_generator({\"S1\": S14_3[0][0], \"S2\": S25_3[0][0]})\n",
    "M2_TS = sequence_generator({\"S4\": complement_side(S14_3[0][0]), \"S3\": S36_3[0][0]})\n",
    "M3_TS = sequence_generator({\"S5\": complement_side(S25_3[0][0]), \"S6\": complement_side(S36_3[0][0])})\n"
   ]
  },
  {
   "cell_type": "code",
   "execution_count": 438,
   "id": "5fa41ae3",
   "metadata": {},
   "outputs": [],
   "source": [
    "pd.DataFrame(M1_TS, columns=[\"Sequence\"]).to_csv(\"~/Desktop/hexoland/trimer/trimer_M1_S.csv\", index=None)\n",
    "pd.DataFrame(M2_TS, columns=[\"Sequence\"]).to_csv(\"~/Desktop/hexoland/trimer/trimer_M2_S.csv\", index=None)\n",
    "pd.DataFrame(M3_TS, columns=[\"Sequence\"]).to_csv(\"~/Desktop/hexoland/trimer/trimer_M3_S.csv\", index=None)"
   ]
  },
  {
   "cell_type": "code",
   "execution_count": 440,
   "id": "2704a909",
   "metadata": {},
   "outputs": [
    {
     "data": {
      "text/plain": [
       "[(['H60_L_P',\n",
       "   'H60_R_P',\n",
       "   'H61_L_S',\n",
       "   'H61_R_P',\n",
       "   'H56_L_P',\n",
       "   'H56_R_P',\n",
       "   'H57_L_S',\n",
       "   'H57_R_S'],\n",
       "  99.9),\n",
       " (['H60_L_S',\n",
       "   'H60_R_P',\n",
       "   'H61_L_P',\n",
       "   'H61_R_S',\n",
       "   'H56_L_S',\n",
       "   'H56_R_S',\n",
       "   'H57_L_S',\n",
       "   'H57_R_P'],\n",
       "  99.5)]"
      ]
     },
     "execution_count": 440,
     "metadata": {},
     "output_type": "execute_result"
    }
   ],
   "source": [
    "### STRONG SIDES\n",
    "S14_FULLs = generate_sides(\"S14\", mode=\"full\", count=2, number=4, overlap=0.25)\n",
    "S14_FULLs"
   ]
  },
  {
   "cell_type": "code",
   "execution_count": 408,
   "id": "9966999b",
   "metadata": {},
   "outputs": [
    {
     "data": {
      "text/plain": [
       "([(['H54_R_P', 'H54_L_S', 'H50_R_S', 'H49_L_S'], 44.5)],\n",
       " [(['H42_L_P', 'H43_L_S', 'H46_L_S', 'H47_R_S'], 43.6),\n",
       "  (['H43_L_P', 'H43_R_P', 'H46_R_P', 'H46_L_S'], 44.9)])"
      ]
     },
     "execution_count": 408,
     "metadata": {},
     "output_type": "execute_result"
    }
   ],
   "source": [
    "### Making OWL Tetramers with very weak < 45\n",
    "\n",
    "OWL_S25_1 = generate_sides(\"S25\", count=1, number=2, overlap=0.5, weak_strength_min=42.0, weak_strength_max=45.0)\n",
    "OWL_S36_1 = generate_sides(\"S36\", count=2, number=2, overlap=0.5, weak_strength_min=42.0, weak_strength_max=45.0)\n",
    "OWL_S25_1, OWL_S36_1\n"
   ]
  },
  {
   "cell_type": "code",
   "execution_count": 446,
   "id": "197e5335",
   "metadata": {},
   "outputs": [],
   "source": [
    "M1_TW = sequence_generator({\"S1\": S14_FULLs[0][0], \"S2\": OWL_S25_1[0][0], \"S3\": OWL_S36_1[0][0]})\n",
    "M2_TW = sequence_generator({\"S4\": complement_side(S14_FULLs[0][0]), \"S3\": OWL_S36_1[1][0]})\n",
    "M3_TW = sequence_generator({\"S1\": S14_FULLs[1][0], \"S6\": complement_side(OWL_S36_1[0][0])})\n",
    "M4_TW = sequence_generator({\"S4\": complement_side(S14_FULLs[1][0]), \"S5\": complement_side(OWL_S25_1[0][0]), \"S6\": complement_side(OWL_S36_1[1][0])})"
   ]
  },
  {
   "cell_type": "code",
   "execution_count": 447,
   "id": "ed5e3c2d",
   "metadata": {},
   "outputs": [],
   "source": [
    "pd.DataFrame(M1_TW, columns=[\"Sequence\"]).to_csv(\"~/Desktop/hexoland/tetramer/tetramer_M1_W.csv\", index=None)\n",
    "pd.DataFrame(M2_TW, columns=[\"Sequence\"]).to_csv(\"~/Desktop/hexoland/tetramer/tetramer_M2_W.csv\", index=None)\n",
    "pd.DataFrame(M3_TW, columns=[\"Sequence\"]).to_csv(\"~/Desktop/hexoland/tetramer/tetramer_M3_W.csv\", index=None)\n",
    "pd.DataFrame(M4_TW, columns=[\"Sequence\"]).to_csv(\"~/Desktop/hexoland/tetramer/tetramer_M4_W.csv\", index=None)\n"
   ]
  },
  {
   "cell_type": "code",
   "execution_count": null,
   "id": "2a2a496b",
   "metadata": {},
   "outputs": [],
   "source": []
  },
  {
   "cell_type": "code",
   "execution_count": null,
   "id": "49d78d96",
   "metadata": {},
   "outputs": [],
   "source": []
  },
  {
   "cell_type": "code",
   "execution_count": 415,
   "id": "27b4ca9c",
   "metadata": {},
   "outputs": [
    {
     "data": {
      "text/plain": [
       "([(['H54_R_S', 'H54_L_S', 'H50_R_S', 'H50_L_P'], 47.900000000000006)],\n",
       " [(['H42_R_S', 'H46_L_P', 'H47_L_S'], 46.9),\n",
       "  (['H42_L_P', 'H43_L_P', 'H47_L_P', 'H46_L_S'], 47.199999999999996)])"
      ]
     },
     "execution_count": 415,
     "metadata": {},
     "output_type": "execute_result"
    }
   ],
   "source": [
    "### Making OWL Tetramers with very weak < 47\n",
    "\n",
    "OWL_S25_2 = generate_sides(\"S25\", count=1, number=2, overlap=0.5, weak_strength_min=46.0, weak_strength_max=48.0)\n",
    "OWL_S36_2 = generate_sides(\"S36\", count=2, number=2, overlap=0.5, weak_strength_min=46.0, weak_strength_max=48.0)\n",
    "OWL_S25_2, OWL_S36_2\n"
   ]
  },
  {
   "cell_type": "code",
   "execution_count": 444,
   "id": "fcac8b03",
   "metadata": {},
   "outputs": [
    {
     "data": {
      "text/plain": [
       "([(['H54_R_S', 'H54_L_S', 'H50_R_S', 'H50_L_P'], 47.900000000000006)],\n",
       " [(['H42_R_S', 'H46_L_P', 'H47_L_S'], 46.9),\n",
       "  (['H42_L_P', 'H43_L_P', 'H47_L_P', 'H46_L_S'], 47.199999999999996)])"
      ]
     },
     "execution_count": 444,
     "metadata": {},
     "output_type": "execute_result"
    }
   ],
   "source": [
    "OWL_S25_2, OWL_S36_2"
   ]
  },
  {
   "cell_type": "code",
   "execution_count": 448,
   "id": "cafb3735",
   "metadata": {},
   "outputs": [],
   "source": [
    "M1_TM = sequence_generator({\"S1\": S14_FULLs[0][0], \"S2\": OWL_S25_2[0][0], \"S3\": OWL_S36_2[0][0]})\n",
    "M2_TM = sequence_generator({\"S4\": complement_side(S14_FULLs[0][0]), \"S3\": OWL_S36_2[1][0]})\n",
    "M3_TM = sequence_generator({\"S1\": S14_FULLs[1][0], \"S6\": complement_side(OWL_S36_2[0][0])})\n",
    "M4_TM = sequence_generator({\"S4\": complement_side(S14_FULLs[1][0]), \"S5\": complement_side(OWL_S25_2[0][0]), \"S6\": complement_side(OWL_S36_2[1][0])})"
   ]
  },
  {
   "cell_type": "code",
   "execution_count": 449,
   "id": "88daee5b",
   "metadata": {},
   "outputs": [],
   "source": [
    "pd.DataFrame(M1_TM, columns=[\"Sequence\"]).to_csv(\"~/Desktop/hexoland/tetramer/tetramer_M1_M.csv\", index=None)\n",
    "pd.DataFrame(M2_TM, columns=[\"Sequence\"]).to_csv(\"~/Desktop/hexoland/tetramer/tetramer_M2_M.csv\", index=None)\n",
    "pd.DataFrame(M3_TM, columns=[\"Sequence\"]).to_csv(\"~/Desktop/hexoland/tetramer/tetramer_M3_M.csv\", index=None)\n",
    "pd.DataFrame(M4_TM, columns=[\"Sequence\"]).to_csv(\"~/Desktop/hexoland/tetramer/tetramer_M4_M.csv\", index=None)\n"
   ]
  },
  {
   "cell_type": "code",
   "execution_count": null,
   "id": "38f582dc",
   "metadata": {},
   "outputs": [],
   "source": []
  },
  {
   "cell_type": "code",
   "execution_count": null,
   "id": "55cc0512",
   "metadata": {},
   "outputs": [],
   "source": []
  },
  {
   "cell_type": "code",
   "execution_count": 419,
   "id": "66cd93b7",
   "metadata": {},
   "outputs": [
    {
     "data": {
      "text/plain": [
       "([(['H53_R_S', 'H53_L_S', 'H49_R_S', 'H50_L_P'], 54.0)],\n",
       " [(['H43_L_P', 'H43_R_P', 'H47_L_S', 'H46_R_S'], 54.0),\n",
       "  (['H43_L_S', 'H42_R_P', 'H47_R_S', 'H46_L_P'], 53.8)])"
      ]
     },
     "execution_count": 419,
     "metadata": {},
     "output_type": "execute_result"
    }
   ],
   "source": [
    "### Making OWL Tetramers with very weak < 55\n",
    "\n",
    "OWL_S25_3 = generate_sides(\"S25\", count=1, number=2, overlap=0.5, weak_strength_min=51.0, weak_strength_max=55.0)\n",
    "OWL_S36_3 = generate_sides(\"S36\", count=2, number=2, overlap=0.5, weak_strength_min=51.0, weak_strength_max=55.0)\n",
    "OWL_S25_3, OWL_S36_3\n"
   ]
  },
  {
   "cell_type": "code",
   "execution_count": 450,
   "id": "25373d2f",
   "metadata": {},
   "outputs": [
    {
     "data": {
      "text/plain": [
       "([(['H53_R_S', 'H53_L_S', 'H49_R_S', 'H50_L_P'], 54.0)],\n",
       " [(['H43_L_P', 'H43_R_P', 'H47_L_S', 'H46_R_S'], 54.0),\n",
       "  (['H43_L_S', 'H42_R_P', 'H47_R_S', 'H46_L_P'], 53.8)])"
      ]
     },
     "execution_count": 450,
     "metadata": {},
     "output_type": "execute_result"
    }
   ],
   "source": [
    "OWL_S25_3, OWL_S36_3\n"
   ]
  },
  {
   "cell_type": "code",
   "execution_count": 451,
   "id": "bbd8406a",
   "metadata": {},
   "outputs": [],
   "source": [
    "M1_TS = sequence_generator({\"S1\": S14_FULLs[0][0], \"S2\": OWL_S25_3[0][0], \"S3\": OWL_S36_3[0][0]})\n",
    "M2_TS = sequence_generator({\"S4\": complement_side(S14_FULLs[0][0]), \"S3\": OWL_S36_3[1][0]})\n",
    "M3_TS = sequence_generator({\"S1\": S14_FULLs[1][0], \"S6\": complement_side(OWL_S36_3[0][0])})\n",
    "M4_TS = sequence_generator({\"S4\": complement_side(S14_FULLs[1][0]), \"S5\": complement_side(OWL_S25_3[0][0]), \"S6\": complement_side(OWL_S36_3[1][0])})"
   ]
  },
  {
   "cell_type": "code",
   "execution_count": 452,
   "id": "e5dd5e88",
   "metadata": {},
   "outputs": [],
   "source": [
    "pd.DataFrame(M1_TS, columns=[\"Sequence\"]).to_csv(\"~/Desktop/hexoland/tetramer/tetramer_M1_S.csv\", index=None)\n",
    "pd.DataFrame(M2_TS, columns=[\"Sequence\"]).to_csv(\"~/Desktop/hexoland/tetramer/tetramer_M2_S.csv\", index=None)\n",
    "pd.DataFrame(M3_TS, columns=[\"Sequence\"]).to_csv(\"~/Desktop/hexoland/tetramer/tetramer_M3_S.csv\", index=None)\n",
    "pd.DataFrame(M4_TS, columns=[\"Sequence\"]).to_csv(\"~/Desktop/hexoland/tetramer/tetramer_M4_S.csv\", index=None)\n"
   ]
  },
  {
   "cell_type": "code",
   "execution_count": null,
   "id": "d11d34c5",
   "metadata": {},
   "outputs": [],
   "source": []
  }
 ],
 "metadata": {
  "kernelspec": {
   "display_name": "Python 3.7.0 64-bit ('3.7.0')",
   "language": "python",
   "name": "python3"
  },
  "language_info": {
   "codemirror_mode": {
    "name": "ipython",
    "version": 3
   },
   "file_extension": ".py",
   "mimetype": "text/x-python",
   "name": "python",
   "nbconvert_exporter": "python",
   "pygments_lexer": "ipython3",
   "version": "3.7.0"
  },
  "vscode": {
   "interpreter": {
    "hash": "4e88b6d552f5bd6fe9d19b655fd79578cc3ae3d5c56742e8f902f0c6b61fba84"
   }
  }
 },
 "nbformat": 4,
 "nbformat_minor": 5
}
